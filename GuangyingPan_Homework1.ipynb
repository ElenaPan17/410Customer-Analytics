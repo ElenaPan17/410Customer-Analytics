{
 "cells": [
  {
   "cell_type": "markdown",
   "id": "a0e53531-9c69-4dce-a407-b370c46855b9",
   "metadata": {},
   "source": [
    "# MSA 410 Customer Analytics: Bass Noise-Robust Estimation Exercise"
   ]
  },
  {
   "cell_type": "markdown",
   "id": "22cd8fb6-f14b-4f6b-ae7d-2040af7d2249",
   "metadata": {},
   "source": [
    "Guangying Pan 006309837"
   ]
  },
  {
   "cell_type": "markdown",
   "id": "ef8c8c50-c323-4152-9003-fc5613bf383a",
   "metadata": {},
   "source": [
    "## Question Q1 Bass Noise-Robust Estimation"
   ]
  },
  {
   "cell_type": "code",
   "execution_count": 1,
   "id": "588f6efa-2043-4776-89e1-ef26346e5281",
   "metadata": {
    "tags": []
   },
   "outputs": [],
   "source": [
    "import pandas as pd\n",
    "import statsmodels.formula.api as smf\n",
    "import numpy as np\n",
    "import matplotlib.pyplot as plt"
   ]
  },
  {
   "cell_type": "markdown",
   "id": "44931f09-f11c-4f87-831f-ac12b43ef8fd",
   "metadata": {},
   "source": [
    "**1. Estimate \"M\", \"p\" and \"q\" from the adoption series dataset using the linear regression approach described on Slides 8 and 9. From  these values, compute the values of N(t) beyond t=14. Specifically, compute N(30). No writeup necessary, simply state your values of \"M\", \"p\", \"q\" and N(30).**"
   ]
  },
  {
   "cell_type": "code",
   "execution_count": 2,
   "id": "06b76d5b-4291-461b-9373-0b1ed0039509",
   "metadata": {
    "tags": []
   },
   "outputs": [],
   "source": [
    "data =pd.read_excel('adoptionseries2_with_noise.xlsx')"
   ]
  },
  {
   "cell_type": "code",
   "execution_count": 3,
   "id": "5b786005-5e77-4049-b14a-fd87d4cfac2a",
   "metadata": {
    "tags": []
   },
   "outputs": [
    {
     "data": {
      "text/html": [
       "<div>\n",
       "<style scoped>\n",
       "    .dataframe tbody tr th:only-of-type {\n",
       "        vertical-align: middle;\n",
       "    }\n",
       "\n",
       "    .dataframe tbody tr th {\n",
       "        vertical-align: top;\n",
       "    }\n",
       "\n",
       "    .dataframe thead th {\n",
       "        text-align: right;\n",
       "    }\n",
       "</style>\n",
       "<table border=\"1\" class=\"dataframe\">\n",
       "  <thead>\n",
       "    <tr style=\"text-align: right;\">\n",
       "      <th></th>\n",
       "      <th>t</th>\n",
       "      <th>N_t</th>\n",
       "    </tr>\n",
       "  </thead>\n",
       "  <tbody>\n",
       "    <tr>\n",
       "      <th>0</th>\n",
       "      <td>1</td>\n",
       "      <td>0.123</td>\n",
       "    </tr>\n",
       "    <tr>\n",
       "      <th>1</th>\n",
       "      <td>2</td>\n",
       "      <td>0.097</td>\n",
       "    </tr>\n",
       "    <tr>\n",
       "      <th>2</th>\n",
       "      <td>3</td>\n",
       "      <td>0.171</td>\n",
       "    </tr>\n",
       "    <tr>\n",
       "      <th>3</th>\n",
       "      <td>4</td>\n",
       "      <td>0.145</td>\n",
       "    </tr>\n",
       "    <tr>\n",
       "      <th>4</th>\n",
       "      <td>5</td>\n",
       "      <td>0.238</td>\n",
       "    </tr>\n",
       "    <tr>\n",
       "      <th>5</th>\n",
       "      <td>6</td>\n",
       "      <td>0.214</td>\n",
       "    </tr>\n",
       "    <tr>\n",
       "      <th>6</th>\n",
       "      <td>7</td>\n",
       "      <td>0.333</td>\n",
       "    </tr>\n",
       "    <tr>\n",
       "      <th>7</th>\n",
       "      <td>8</td>\n",
       "      <td>0.314</td>\n",
       "    </tr>\n",
       "    <tr>\n",
       "      <th>8</th>\n",
       "      <td>9</td>\n",
       "      <td>0.466</td>\n",
       "    </tr>\n",
       "    <tr>\n",
       "      <th>9</th>\n",
       "      <td>10</td>\n",
       "      <td>0.455</td>\n",
       "    </tr>\n",
       "    <tr>\n",
       "      <th>10</th>\n",
       "      <td>11</td>\n",
       "      <td>0.650</td>\n",
       "    </tr>\n",
       "    <tr>\n",
       "      <th>11</th>\n",
       "      <td>12</td>\n",
       "      <td>0.653</td>\n",
       "    </tr>\n",
       "    <tr>\n",
       "      <th>12</th>\n",
       "      <td>13</td>\n",
       "      <td>0.902</td>\n",
       "    </tr>\n",
       "    <tr>\n",
       "      <th>13</th>\n",
       "      <td>14</td>\n",
       "      <td>0.926</td>\n",
       "    </tr>\n",
       "  </tbody>\n",
       "</table>\n",
       "</div>"
      ],
      "text/plain": [
       "     t    N_t\n",
       "0    1  0.123\n",
       "1    2  0.097\n",
       "2    3  0.171\n",
       "3    4  0.145\n",
       "4    5  0.238\n",
       "5    6  0.214\n",
       "6    7  0.333\n",
       "7    8  0.314\n",
       "8    9  0.466\n",
       "9   10  0.455\n",
       "10  11  0.650\n",
       "11  12  0.653\n",
       "12  13  0.902\n",
       "13  14  0.926"
      ]
     },
     "execution_count": 3,
     "metadata": {},
     "output_type": "execute_result"
    }
   ],
   "source": [
    "data = data.rename(columns={'N(t)': 'N_t'})\n",
    "data"
   ]
  },
  {
   "cell_type": "code",
   "execution_count": 4,
   "id": "47519a50-007e-412b-9ecc-316b986ee1fb",
   "metadata": {
    "tags": []
   },
   "outputs": [
    {
     "data": {
      "text/html": [
       "<div>\n",
       "<style scoped>\n",
       "    .dataframe tbody tr th:only-of-type {\n",
       "        vertical-align: middle;\n",
       "    }\n",
       "\n",
       "    .dataframe tbody tr th {\n",
       "        vertical-align: top;\n",
       "    }\n",
       "\n",
       "    .dataframe thead th {\n",
       "        text-align: right;\n",
       "    }\n",
       "</style>\n",
       "<table border=\"1\" class=\"dataframe\">\n",
       "  <thead>\n",
       "    <tr style=\"text-align: right;\">\n",
       "      <th></th>\n",
       "      <th>t</th>\n",
       "      <th>N_t</th>\n",
       "      <th>A</th>\n",
       "      <th>A^2</th>\n",
       "    </tr>\n",
       "  </thead>\n",
       "  <tbody>\n",
       "    <tr>\n",
       "      <th>0</th>\n",
       "      <td>1</td>\n",
       "      <td>0.123</td>\n",
       "      <td>0.000</td>\n",
       "      <td>0.000000</td>\n",
       "    </tr>\n",
       "    <tr>\n",
       "      <th>1</th>\n",
       "      <td>2</td>\n",
       "      <td>0.097</td>\n",
       "      <td>0.123</td>\n",
       "      <td>0.015129</td>\n",
       "    </tr>\n",
       "    <tr>\n",
       "      <th>2</th>\n",
       "      <td>3</td>\n",
       "      <td>0.171</td>\n",
       "      <td>0.220</td>\n",
       "      <td>0.048400</td>\n",
       "    </tr>\n",
       "    <tr>\n",
       "      <th>3</th>\n",
       "      <td>4</td>\n",
       "      <td>0.145</td>\n",
       "      <td>0.391</td>\n",
       "      <td>0.152881</td>\n",
       "    </tr>\n",
       "    <tr>\n",
       "      <th>4</th>\n",
       "      <td>5</td>\n",
       "      <td>0.238</td>\n",
       "      <td>0.536</td>\n",
       "      <td>0.287296</td>\n",
       "    </tr>\n",
       "    <tr>\n",
       "      <th>5</th>\n",
       "      <td>6</td>\n",
       "      <td>0.214</td>\n",
       "      <td>0.774</td>\n",
       "      <td>0.599076</td>\n",
       "    </tr>\n",
       "    <tr>\n",
       "      <th>6</th>\n",
       "      <td>7</td>\n",
       "      <td>0.333</td>\n",
       "      <td>0.988</td>\n",
       "      <td>0.976144</td>\n",
       "    </tr>\n",
       "    <tr>\n",
       "      <th>7</th>\n",
       "      <td>8</td>\n",
       "      <td>0.314</td>\n",
       "      <td>1.321</td>\n",
       "      <td>1.745041</td>\n",
       "    </tr>\n",
       "    <tr>\n",
       "      <th>8</th>\n",
       "      <td>9</td>\n",
       "      <td>0.466</td>\n",
       "      <td>1.635</td>\n",
       "      <td>2.673225</td>\n",
       "    </tr>\n",
       "    <tr>\n",
       "      <th>9</th>\n",
       "      <td>10</td>\n",
       "      <td>0.455</td>\n",
       "      <td>2.101</td>\n",
       "      <td>4.414201</td>\n",
       "    </tr>\n",
       "    <tr>\n",
       "      <th>10</th>\n",
       "      <td>11</td>\n",
       "      <td>0.650</td>\n",
       "      <td>2.556</td>\n",
       "      <td>6.533136</td>\n",
       "    </tr>\n",
       "    <tr>\n",
       "      <th>11</th>\n",
       "      <td>12</td>\n",
       "      <td>0.653</td>\n",
       "      <td>3.206</td>\n",
       "      <td>10.278436</td>\n",
       "    </tr>\n",
       "    <tr>\n",
       "      <th>12</th>\n",
       "      <td>13</td>\n",
       "      <td>0.902</td>\n",
       "      <td>3.859</td>\n",
       "      <td>14.891881</td>\n",
       "    </tr>\n",
       "    <tr>\n",
       "      <th>13</th>\n",
       "      <td>14</td>\n",
       "      <td>0.926</td>\n",
       "      <td>4.761</td>\n",
       "      <td>22.667121</td>\n",
       "    </tr>\n",
       "  </tbody>\n",
       "</table>\n",
       "</div>"
      ],
      "text/plain": [
       "     t    N_t      A        A^2\n",
       "0    1  0.123  0.000   0.000000\n",
       "1    2  0.097  0.123   0.015129\n",
       "2    3  0.171  0.220   0.048400\n",
       "3    4  0.145  0.391   0.152881\n",
       "4    5  0.238  0.536   0.287296\n",
       "5    6  0.214  0.774   0.599076\n",
       "6    7  0.333  0.988   0.976144\n",
       "7    8  0.314  1.321   1.745041\n",
       "8    9  0.466  1.635   2.673225\n",
       "9   10  0.455  2.101   4.414201\n",
       "10  11  0.650  2.556   6.533136\n",
       "11  12  0.653  3.206  10.278436\n",
       "12  13  0.902  3.859  14.891881\n",
       "13  14  0.926  4.761  22.667121"
      ]
     },
     "execution_count": 4,
     "metadata": {},
     "output_type": "execute_result"
    }
   ],
   "source": [
    "data['A'] = 0\n",
    "data['A^2'] = 0\n",
    "\n",
    "for i in range(1, data.shape[0]):\n",
    "    data.iloc[i, 2] = data.iloc[i - 1, 2] + data.iloc[i - 1, 1]\n",
    "    data.iloc[i, 3] = data.iloc[i, 2] ** 2\n",
    "    \n",
    "data"
   ]
  },
  {
   "cell_type": "code",
   "execution_count": 5,
   "id": "a03b982d-af80-49cd-82b1-5b8b9c31283f",
   "metadata": {
    "tags": []
   },
   "outputs": [
    {
     "name": "stdout",
     "output_type": "stream",
     "text": [
      "                            OLS Regression Results                            \n",
      "==============================================================================\n",
      "Dep. Variable:                    N_t   R-squared:                       0.972\n",
      "Model:                            OLS   Adj. R-squared:                  0.966\n",
      "Method:                 Least Squares   F-statistic:                     188.4\n",
      "Date:                Tue, 09 Apr 2024   Prob (F-statistic):           3.09e-09\n",
      "Time:                        01:33:23   Log-Likelihood:                 23.404\n",
      "No. Observations:                  14   AIC:                            -40.81\n",
      "Df Residuals:                      11   BIC:                            -38.89\n",
      "Df Model:                           2                                         \n",
      "Covariance Type:            nonrobust                                         \n",
      "==============================================================================\n",
      "                 coef    std err          t      P>|t|      [0.025      0.975]\n",
      "------------------------------------------------------------------------------\n",
      "Intercept      0.0961      0.027      3.611      0.004       0.038       0.155\n",
      "A              0.2113      0.033      6.434      0.000       0.139       0.284\n",
      "I(A ** 2)     -0.0062      0.007     -0.866      0.405      -0.022       0.010\n",
      "==============================================================================\n",
      "Omnibus:                        3.290   Durbin-Watson:                   3.731\n",
      "Prob(Omnibus):                  0.193   Jarque-Bera (JB):                1.203\n",
      "Skew:                           0.191   Prob(JB):                        0.548\n",
      "Kurtosis:                       1.616   Cond. No.                         24.7\n",
      "==============================================================================\n",
      "\n",
      "Notes:\n",
      "[1] Standard Errors assume that the covariance matrix of the errors is correctly specified.\n"
     ]
    },
    {
     "name": "stderr",
     "output_type": "stream",
     "text": [
      "/Users/elenapan/anaconda3/lib/python3.10/site-packages/scipy/stats/_stats_py.py:1806: UserWarning: kurtosistest only valid for n>=20 ... continuing anyway, n=14\n",
      "  warnings.warn(\"kurtosistest only valid for n>=20 ... continuing \"\n"
     ]
    }
   ],
   "source": [
    "linear_reg  = smf.ols(formula = 'N_t ~ A + I(A**2)', data = data)\n",
    "result = linear_reg.fit()\n",
    "print(result.summary())"
   ]
  },
  {
   "cell_type": "code",
   "execution_count": 6,
   "id": "7b4f1cd9-ad0b-46be-915d-cdd6749a1c62",
   "metadata": {
    "tags": []
   },
   "outputs": [
    {
     "name": "stdout",
     "output_type": "stream",
     "text": [
      "intercept: 0.09607195064567359\n",
      "coef_A: 0.21130507784777675\n",
      "coef_A_squared: -0.006222908592151068\n"
     ]
    }
   ],
   "source": [
    "a = result.params['Intercept']\n",
    "b = result.params['A']\n",
    "c = result.params['I(A ** 2)']\n",
    "\n",
    "print(f\"intercept: {a}\")\n",
    "print(f\"coef_A: {b}\")\n",
    "print(f\"coef_A_squared: {c}\")"
   ]
  },
  {
   "cell_type": "code",
   "execution_count": 7,
   "id": "447f4b06-d0b6-43ab-bebf-9d4f10428c47",
   "metadata": {
    "tags": []
   },
   "outputs": [
    {
     "name": "stdout",
     "output_type": "stream",
     "text": [
      "p: 0.00279\n",
      "q: 0.214\n",
      "M: 34.4\n"
     ]
    }
   ],
   "source": [
    "p = (np.sqrt(b**2-4*a*c)-b)/2\n",
    "q = (np.sqrt(b**2-4*a*c)+b)/2\n",
    "M = -q/c\n",
    "\n",
    "print(f\"p: {p:.3g}\")\n",
    "print(f\"q: {q:.3g}\")\n",
    "print(f\"M: {M:.3g}\")"
   ]
  },
  {
   "cell_type": "code",
   "execution_count": 8,
   "id": "923b2b1a-2759-48e5-9276-41ca3ba50714",
   "metadata": {
    "tags": []
   },
   "outputs": [
    {
     "data": {
      "text/html": [
       "<div>\n",
       "<style scoped>\n",
       "    .dataframe tbody tr th:only-of-type {\n",
       "        vertical-align: middle;\n",
       "    }\n",
       "\n",
       "    .dataframe tbody tr th {\n",
       "        vertical-align: top;\n",
       "    }\n",
       "\n",
       "    .dataframe thead th {\n",
       "        text-align: right;\n",
       "    }\n",
       "</style>\n",
       "<table border=\"1\" class=\"dataframe\">\n",
       "  <thead>\n",
       "    <tr style=\"text-align: right;\">\n",
       "      <th></th>\n",
       "      <th>t</th>\n",
       "      <th>N_t</th>\n",
       "      <th>A</th>\n",
       "      <th>A^2</th>\n",
       "    </tr>\n",
       "  </thead>\n",
       "  <tbody>\n",
       "    <tr>\n",
       "      <th>0</th>\n",
       "      <td>1</td>\n",
       "      <td>0.123000</td>\n",
       "      <td>0.000000</td>\n",
       "      <td>0.000000</td>\n",
       "    </tr>\n",
       "    <tr>\n",
       "      <th>1</th>\n",
       "      <td>2</td>\n",
       "      <td>0.097000</td>\n",
       "      <td>0.123000</td>\n",
       "      <td>0.015129</td>\n",
       "    </tr>\n",
       "    <tr>\n",
       "      <th>2</th>\n",
       "      <td>3</td>\n",
       "      <td>0.171000</td>\n",
       "      <td>0.220000</td>\n",
       "      <td>0.048400</td>\n",
       "    </tr>\n",
       "    <tr>\n",
       "      <th>3</th>\n",
       "      <td>4</td>\n",
       "      <td>0.145000</td>\n",
       "      <td>0.391000</td>\n",
       "      <td>0.152881</td>\n",
       "    </tr>\n",
       "    <tr>\n",
       "      <th>4</th>\n",
       "      <td>5</td>\n",
       "      <td>0.238000</td>\n",
       "      <td>0.536000</td>\n",
       "      <td>0.287296</td>\n",
       "    </tr>\n",
       "    <tr>\n",
       "      <th>5</th>\n",
       "      <td>6</td>\n",
       "      <td>0.214000</td>\n",
       "      <td>0.774000</td>\n",
       "      <td>0.599076</td>\n",
       "    </tr>\n",
       "    <tr>\n",
       "      <th>6</th>\n",
       "      <td>7</td>\n",
       "      <td>0.333000</td>\n",
       "      <td>0.988000</td>\n",
       "      <td>0.976144</td>\n",
       "    </tr>\n",
       "    <tr>\n",
       "      <th>7</th>\n",
       "      <td>8</td>\n",
       "      <td>0.314000</td>\n",
       "      <td>1.321000</td>\n",
       "      <td>1.745041</td>\n",
       "    </tr>\n",
       "    <tr>\n",
       "      <th>8</th>\n",
       "      <td>9</td>\n",
       "      <td>0.466000</td>\n",
       "      <td>1.635000</td>\n",
       "      <td>2.673225</td>\n",
       "    </tr>\n",
       "    <tr>\n",
       "      <th>9</th>\n",
       "      <td>10</td>\n",
       "      <td>0.455000</td>\n",
       "      <td>2.101000</td>\n",
       "      <td>4.414201</td>\n",
       "    </tr>\n",
       "    <tr>\n",
       "      <th>10</th>\n",
       "      <td>11</td>\n",
       "      <td>0.650000</td>\n",
       "      <td>2.556000</td>\n",
       "      <td>6.533136</td>\n",
       "    </tr>\n",
       "    <tr>\n",
       "      <th>11</th>\n",
       "      <td>12</td>\n",
       "      <td>0.653000</td>\n",
       "      <td>3.206000</td>\n",
       "      <td>10.278436</td>\n",
       "    </tr>\n",
       "    <tr>\n",
       "      <th>12</th>\n",
       "      <td>13</td>\n",
       "      <td>0.902000</td>\n",
       "      <td>3.859000</td>\n",
       "      <td>14.891881</td>\n",
       "    </tr>\n",
       "    <tr>\n",
       "      <th>13</th>\n",
       "      <td>14</td>\n",
       "      <td>0.926000</td>\n",
       "      <td>4.761000</td>\n",
       "      <td>22.667121</td>\n",
       "    </tr>\n",
       "    <tr>\n",
       "      <th>14</th>\n",
       "      <td>15</td>\n",
       "      <td>1.096503</td>\n",
       "      <td>5.687000</td>\n",
       "      <td>32.341969</td>\n",
       "    </tr>\n",
       "    <tr>\n",
       "      <th>15</th>\n",
       "      <td>16</td>\n",
       "      <td>1.243108</td>\n",
       "      <td>6.783503</td>\n",
       "      <td>46.015910</td>\n",
       "    </tr>\n",
       "    <tr>\n",
       "      <th>16</th>\n",
       "      <td>17</td>\n",
       "      <td>1.391215</td>\n",
       "      <td>8.026611</td>\n",
       "      <td>64.426477</td>\n",
       "    </tr>\n",
       "    <tr>\n",
       "      <th>17</th>\n",
       "      <td>18</td>\n",
       "      <td>1.534163</td>\n",
       "      <td>9.417826</td>\n",
       "      <td>88.695446</td>\n",
       "    </tr>\n",
       "    <tr>\n",
       "      <th>18</th>\n",
       "      <td>19</td>\n",
       "      <td>1.663869</td>\n",
       "      <td>10.951989</td>\n",
       "      <td>119.946057</td>\n",
       "    </tr>\n",
       "    <tr>\n",
       "      <th>19</th>\n",
       "      <td>20</td>\n",
       "      <td>1.771429</td>\n",
       "      <td>12.615858</td>\n",
       "      <td>159.159877</td>\n",
       "    </tr>\n",
       "    <tr>\n",
       "      <th>20</th>\n",
       "      <td>21</td>\n",
       "      <td>1.848074</td>\n",
       "      <td>14.387288</td>\n",
       "      <td>206.994046</td>\n",
       "    </tr>\n",
       "    <tr>\n",
       "      <th>21</th>\n",
       "      <td>22</td>\n",
       "      <td>1.886409</td>\n",
       "      <td>16.235362</td>\n",
       "      <td>263.586963</td>\n",
       "    </tr>\n",
       "    <tr>\n",
       "      <th>22</th>\n",
       "      <td>23</td>\n",
       "      <td>1.881700</td>\n",
       "      <td>18.121770</td>\n",
       "      <td>328.398555</td>\n",
       "    </tr>\n",
       "    <tr>\n",
       "      <th>23</th>\n",
       "      <td>24</td>\n",
       "      <td>1.832879</td>\n",
       "      <td>20.003470</td>\n",
       "      <td>400.138813</td>\n",
       "    </tr>\n",
       "    <tr>\n",
       "      <th>24</th>\n",
       "      <td>25</td>\n",
       "      <td>1.742958</td>\n",
       "      <td>21.836350</td>\n",
       "      <td>476.826160</td>\n",
       "    </tr>\n",
       "    <tr>\n",
       "      <th>25</th>\n",
       "      <td>26</td>\n",
       "      <td>1.618663</td>\n",
       "      <td>23.579307</td>\n",
       "      <td>555.983737</td>\n",
       "    </tr>\n",
       "    <tr>\n",
       "      <th>26</th>\n",
       "      <td>27</td>\n",
       "      <td>1.469372</td>\n",
       "      <td>25.197971</td>\n",
       "      <td>634.937730</td>\n",
       "    </tr>\n",
       "    <tr>\n",
       "      <th>27</th>\n",
       "      <td>28</td>\n",
       "      <td>1.305613</td>\n",
       "      <td>26.667342</td>\n",
       "      <td>711.147151</td>\n",
       "    </tr>\n",
       "    <tr>\n",
       "      <th>28</th>\n",
       "      <td>29</td>\n",
       "      <td>1.137559</td>\n",
       "      <td>27.972956</td>\n",
       "      <td>782.486240</td>\n",
       "    </tr>\n",
       "    <tr>\n",
       "      <th>29</th>\n",
       "      <td>30</td>\n",
       "      <td>0.973841</td>\n",
       "      <td>29.110515</td>\n",
       "      <td>847.422064</td>\n",
       "    </tr>\n",
       "  </tbody>\n",
       "</table>\n",
       "</div>"
      ],
      "text/plain": [
       "     t       N_t          A         A^2\n",
       "0    1  0.123000   0.000000    0.000000\n",
       "1    2  0.097000   0.123000    0.015129\n",
       "2    3  0.171000   0.220000    0.048400\n",
       "3    4  0.145000   0.391000    0.152881\n",
       "4    5  0.238000   0.536000    0.287296\n",
       "5    6  0.214000   0.774000    0.599076\n",
       "6    7  0.333000   0.988000    0.976144\n",
       "7    8  0.314000   1.321000    1.745041\n",
       "8    9  0.466000   1.635000    2.673225\n",
       "9   10  0.455000   2.101000    4.414201\n",
       "10  11  0.650000   2.556000    6.533136\n",
       "11  12  0.653000   3.206000   10.278436\n",
       "12  13  0.902000   3.859000   14.891881\n",
       "13  14  0.926000   4.761000   22.667121\n",
       "14  15  1.096503   5.687000   32.341969\n",
       "15  16  1.243108   6.783503   46.015910\n",
       "16  17  1.391215   8.026611   64.426477\n",
       "17  18  1.534163   9.417826   88.695446\n",
       "18  19  1.663869  10.951989  119.946057\n",
       "19  20  1.771429  12.615858  159.159877\n",
       "20  21  1.848074  14.387288  206.994046\n",
       "21  22  1.886409  16.235362  263.586963\n",
       "22  23  1.881700  18.121770  328.398555\n",
       "23  24  1.832879  20.003470  400.138813\n",
       "24  25  1.742958  21.836350  476.826160\n",
       "25  26  1.618663  23.579307  555.983737\n",
       "26  27  1.469372  25.197971  634.937730\n",
       "27  28  1.305613  26.667342  711.147151\n",
       "28  29  1.137559  27.972956  782.486240\n",
       "29  30  0.973841  29.110515  847.422064"
      ]
     },
     "execution_count": 8,
     "metadata": {},
     "output_type": "execute_result"
    }
   ],
   "source": [
    "data_q1 = data.copy()\n",
    "\n",
    "for i in range(14, 30):\n",
    "    data_q1.loc[i] = 0\n",
    "    data_q1.iloc[i, 0] = i + 1\n",
    "    data_q1.iloc[i, 2] = data_q1.iloc[i - 1, 2] + data_q1.iloc[i - 1, 1]\n",
    "    data_q1.iloc[i, 3] = data_q1.iloc[i, 2] ** 2\n",
    "    data_q1.iloc[i, 1] = a + b * data_q1.iloc[i, 2] + c * data_q1.iloc[i, 3]\n",
    "\n",
    "data_q1"
   ]
  },
  {
   "cell_type": "code",
   "execution_count": 9,
   "id": "d265993a-c34a-4d2c-9d4a-3410a48a234e",
   "metadata": {
    "tags": []
   },
   "outputs": [
    {
     "name": "stdout",
     "output_type": "stream",
     "text": [
      "N(30): 0.974\n"
     ]
    }
   ],
   "source": [
    "print(f\"N(30): {data_q1.iloc[29, 1]:.3g}\")"
   ]
  },
  {
   "cell_type": "markdown",
   "id": "0bca7e7c-3ef3-4a28-8d55-19f4dc81e302",
   "metadata": {
    "tags": []
   },
   "source": [
    "### "
   ]
  },
  {
   "cell_type": "markdown",
   "id": "85705538-c1f2-4ecd-99da-676c6b9da31a",
   "metadata": {},
   "source": [
    "**2. Assume M is fixed at M=100. Estimate \"p\" and \"q\" from the adoption series dataset from period 1 to 14 using the nonlinear regression approach, again based on the formula at the top of slide 8. See Question Q4 below for comments on what makes the model nonlinear when M is fixed, but linear when M is not fixed (as in Q1.1 above).   No writeup necessary, simply state your values of \"p\", \"q\" .**"
   ]
  },
  {
   "cell_type": "code",
   "execution_count": 10,
   "id": "fa3c1ffc-9f01-4675-bb77-327ecadaefcf",
   "metadata": {
    "tags": []
   },
   "outputs": [],
   "source": [
    "from scipy.optimize import curve_fit"
   ]
  },
  {
   "cell_type": "code",
   "execution_count": 11,
   "id": "f4703f13-d3bc-4276-b9b3-1c47ef759ed9",
   "metadata": {
    "tags": []
   },
   "outputs": [
    {
     "name": "stdout",
     "output_type": "stream",
     "text": [
      "p = 0.00106, q = 0.194\n"
     ]
    }
   ],
   "source": [
    "def model_func(A, p, q):\n",
    "    M = 100\n",
    "    return M * p + (q - p) * A - (q / M) * A ** 2 \n",
    "\n",
    "params, covariance = curve_fit(model_func, data['A'], data['N_t'], p0 = [0.02, 0.5])\n",
    "p, q = params\n",
    "\n",
    "print(f\"p = {p:.3g}, q = {q:.3g}\")"
   ]
  },
  {
   "cell_type": "markdown",
   "id": "8f0890fb-6edf-40bd-bbfd-a8f87c2ff26f",
   "metadata": {},
   "source": [
    "### "
   ]
  },
  {
   "cell_type": "markdown",
   "id": "55485da0-6bf1-4588-b72c-b3c48ee0da52",
   "metadata": {},
   "source": [
    "**3. Using M=100 and the estimated values of \"p\" and \"q\" from Step 2 above, forecast into the future beyond period 14. Compute the value of N(30). No writeup necessary. Simply state the N(30) value that you got.**"
   ]
  },
  {
   "cell_type": "code",
   "execution_count": 12,
   "id": "336b605d-b6e3-4562-a926-2f752edeafe3",
   "metadata": {
    "tags": []
   },
   "outputs": [
    {
     "data": {
      "text/html": [
       "<div>\n",
       "<style scoped>\n",
       "    .dataframe tbody tr th:only-of-type {\n",
       "        vertical-align: middle;\n",
       "    }\n",
       "\n",
       "    .dataframe tbody tr th {\n",
       "        vertical-align: top;\n",
       "    }\n",
       "\n",
       "    .dataframe thead th {\n",
       "        text-align: right;\n",
       "    }\n",
       "</style>\n",
       "<table border=\"1\" class=\"dataframe\">\n",
       "  <thead>\n",
       "    <tr style=\"text-align: right;\">\n",
       "      <th></th>\n",
       "      <th>t</th>\n",
       "      <th>N_t</th>\n",
       "      <th>A</th>\n",
       "      <th>A^2</th>\n",
       "    </tr>\n",
       "  </thead>\n",
       "  <tbody>\n",
       "    <tr>\n",
       "      <th>0</th>\n",
       "      <td>1</td>\n",
       "      <td>0.123000</td>\n",
       "      <td>0.000000</td>\n",
       "      <td>0.000000</td>\n",
       "    </tr>\n",
       "    <tr>\n",
       "      <th>1</th>\n",
       "      <td>2</td>\n",
       "      <td>0.097000</td>\n",
       "      <td>0.123000</td>\n",
       "      <td>0.015129</td>\n",
       "    </tr>\n",
       "    <tr>\n",
       "      <th>2</th>\n",
       "      <td>3</td>\n",
       "      <td>0.171000</td>\n",
       "      <td>0.220000</td>\n",
       "      <td>0.048400</td>\n",
       "    </tr>\n",
       "    <tr>\n",
       "      <th>3</th>\n",
       "      <td>4</td>\n",
       "      <td>0.145000</td>\n",
       "      <td>0.391000</td>\n",
       "      <td>0.152881</td>\n",
       "    </tr>\n",
       "    <tr>\n",
       "      <th>4</th>\n",
       "      <td>5</td>\n",
       "      <td>0.238000</td>\n",
       "      <td>0.536000</td>\n",
       "      <td>0.287296</td>\n",
       "    </tr>\n",
       "    <tr>\n",
       "      <th>5</th>\n",
       "      <td>6</td>\n",
       "      <td>0.214000</td>\n",
       "      <td>0.774000</td>\n",
       "      <td>0.599076</td>\n",
       "    </tr>\n",
       "    <tr>\n",
       "      <th>6</th>\n",
       "      <td>7</td>\n",
       "      <td>0.333000</td>\n",
       "      <td>0.988000</td>\n",
       "      <td>0.976144</td>\n",
       "    </tr>\n",
       "    <tr>\n",
       "      <th>7</th>\n",
       "      <td>8</td>\n",
       "      <td>0.314000</td>\n",
       "      <td>1.321000</td>\n",
       "      <td>1.745041</td>\n",
       "    </tr>\n",
       "    <tr>\n",
       "      <th>8</th>\n",
       "      <td>9</td>\n",
       "      <td>0.466000</td>\n",
       "      <td>1.635000</td>\n",
       "      <td>2.673225</td>\n",
       "    </tr>\n",
       "    <tr>\n",
       "      <th>9</th>\n",
       "      <td>10</td>\n",
       "      <td>0.455000</td>\n",
       "      <td>2.101000</td>\n",
       "      <td>4.414201</td>\n",
       "    </tr>\n",
       "    <tr>\n",
       "      <th>10</th>\n",
       "      <td>11</td>\n",
       "      <td>0.650000</td>\n",
       "      <td>2.556000</td>\n",
       "      <td>6.533136</td>\n",
       "    </tr>\n",
       "    <tr>\n",
       "      <th>11</th>\n",
       "      <td>12</td>\n",
       "      <td>0.653000</td>\n",
       "      <td>3.206000</td>\n",
       "      <td>10.278436</td>\n",
       "    </tr>\n",
       "    <tr>\n",
       "      <th>12</th>\n",
       "      <td>13</td>\n",
       "      <td>0.902000</td>\n",
       "      <td>3.859000</td>\n",
       "      <td>14.891881</td>\n",
       "    </tr>\n",
       "    <tr>\n",
       "      <th>13</th>\n",
       "      <td>14</td>\n",
       "      <td>0.926000</td>\n",
       "      <td>4.761000</td>\n",
       "      <td>22.667121</td>\n",
       "    </tr>\n",
       "    <tr>\n",
       "      <th>14</th>\n",
       "      <td>15</td>\n",
       "      <td>1.138882</td>\n",
       "      <td>5.687000</td>\n",
       "      <td>32.341969</td>\n",
       "    </tr>\n",
       "    <tr>\n",
       "      <th>15</th>\n",
       "      <td>16</td>\n",
       "      <td>1.330656</td>\n",
       "      <td>6.825882</td>\n",
       "      <td>46.592667</td>\n",
       "    </tr>\n",
       "    <tr>\n",
       "      <th>16</th>\n",
       "      <td>17</td>\n",
       "      <td>1.548359</td>\n",
       "      <td>8.156539</td>\n",
       "      <td>66.529121</td>\n",
       "    </tr>\n",
       "    <tr>\n",
       "      <th>17</th>\n",
       "      <td>18</td>\n",
       "      <td>1.793044</td>\n",
       "      <td>9.704897</td>\n",
       "      <td>94.185027</td>\n",
       "    </tr>\n",
       "    <tr>\n",
       "      <th>18</th>\n",
       "      <td>19</td>\n",
       "      <td>2.064792</td>\n",
       "      <td>11.497941</td>\n",
       "      <td>132.202645</td>\n",
       "    </tr>\n",
       "    <tr>\n",
       "      <th>19</th>\n",
       "      <td>20</td>\n",
       "      <td>2.362298</td>\n",
       "      <td>13.562733</td>\n",
       "      <td>183.947733</td>\n",
       "    </tr>\n",
       "    <tr>\n",
       "      <th>20</th>\n",
       "      <td>21</td>\n",
       "      <td>2.682414</td>\n",
       "      <td>15.925031</td>\n",
       "      <td>253.606622</td>\n",
       "    </tr>\n",
       "    <tr>\n",
       "      <th>21</th>\n",
       "      <td>22</td>\n",
       "      <td>3.019700</td>\n",
       "      <td>18.607445</td>\n",
       "      <td>346.237028</td>\n",
       "    </tr>\n",
       "    <tr>\n",
       "      <th>22</th>\n",
       "      <td>23</td>\n",
       "      <td>3.366046</td>\n",
       "      <td>21.627145</td>\n",
       "      <td>467.733422</td>\n",
       "    </tr>\n",
       "    <tr>\n",
       "      <th>23</th>\n",
       "      <td>24</td>\n",
       "      <td>3.710485</td>\n",
       "      <td>24.993192</td>\n",
       "      <td>624.659628</td>\n",
       "    </tr>\n",
       "    <tr>\n",
       "      <th>24</th>\n",
       "      <td>25</td>\n",
       "      <td>4.039312</td>\n",
       "      <td>28.703676</td>\n",
       "      <td>823.901037</td>\n",
       "    </tr>\n",
       "    <tr>\n",
       "      <th>25</th>\n",
       "      <td>26</td>\n",
       "      <td>4.336650</td>\n",
       "      <td>32.742989</td>\n",
       "      <td>1072.103312</td>\n",
       "    </tr>\n",
       "    <tr>\n",
       "      <th>26</th>\n",
       "      <td>27</td>\n",
       "      <td>4.585523</td>\n",
       "      <td>37.079639</td>\n",
       "      <td>1374.899646</td>\n",
       "    </tr>\n",
       "    <tr>\n",
       "      <th>27</th>\n",
       "      <td>28</td>\n",
       "      <td>4.769436</td>\n",
       "      <td>41.665162</td>\n",
       "      <td>1735.985724</td>\n",
       "    </tr>\n",
       "    <tr>\n",
       "      <th>28</th>\n",
       "      <td>29</td>\n",
       "      <td>4.874307</td>\n",
       "      <td>46.434598</td>\n",
       "      <td>2156.171854</td>\n",
       "    </tr>\n",
       "    <tr>\n",
       "      <th>29</th>\n",
       "      <td>30</td>\n",
       "      <td>4.890440</td>\n",
       "      <td>51.308904</td>\n",
       "      <td>2632.603671</td>\n",
       "    </tr>\n",
       "  </tbody>\n",
       "</table>\n",
       "</div>"
      ],
      "text/plain": [
       "     t       N_t          A          A^2\n",
       "0    1  0.123000   0.000000     0.000000\n",
       "1    2  0.097000   0.123000     0.015129\n",
       "2    3  0.171000   0.220000     0.048400\n",
       "3    4  0.145000   0.391000     0.152881\n",
       "4    5  0.238000   0.536000     0.287296\n",
       "5    6  0.214000   0.774000     0.599076\n",
       "6    7  0.333000   0.988000     0.976144\n",
       "7    8  0.314000   1.321000     1.745041\n",
       "8    9  0.466000   1.635000     2.673225\n",
       "9   10  0.455000   2.101000     4.414201\n",
       "10  11  0.650000   2.556000     6.533136\n",
       "11  12  0.653000   3.206000    10.278436\n",
       "12  13  0.902000   3.859000    14.891881\n",
       "13  14  0.926000   4.761000    22.667121\n",
       "14  15  1.138882   5.687000    32.341969\n",
       "15  16  1.330656   6.825882    46.592667\n",
       "16  17  1.548359   8.156539    66.529121\n",
       "17  18  1.793044   9.704897    94.185027\n",
       "18  19  2.064792  11.497941   132.202645\n",
       "19  20  2.362298  13.562733   183.947733\n",
       "20  21  2.682414  15.925031   253.606622\n",
       "21  22  3.019700  18.607445   346.237028\n",
       "22  23  3.366046  21.627145   467.733422\n",
       "23  24  3.710485  24.993192   624.659628\n",
       "24  25  4.039312  28.703676   823.901037\n",
       "25  26  4.336650  32.742989  1072.103312\n",
       "26  27  4.585523  37.079639  1374.899646\n",
       "27  28  4.769436  41.665162  1735.985724\n",
       "28  29  4.874307  46.434598  2156.171854\n",
       "29  30  4.890440  51.308904  2632.603671"
      ]
     },
     "execution_count": 12,
     "metadata": {},
     "output_type": "execute_result"
    }
   ],
   "source": [
    "data_q2 = data.copy()\n",
    "\n",
    "for i in range(14, 30):\n",
    "    data_q2.loc[i] = 0\n",
    "    data_q2.iloc[i, 0] = i + 1\n",
    "    data_q2.iloc[i, 2] = data_q2.iloc[i - 1, 2] + data_q2.iloc[i - 1, 1]\n",
    "    data_q2.iloc[i, 3] = data_q2.iloc[i, 2] ** 2\n",
    "    data_q2.iloc[i, 1] = model_func(data_q2.iloc[i, 2], p,q)\n",
    "\n",
    "data_q2"
   ]
  },
  {
   "cell_type": "code",
   "execution_count": 13,
   "id": "d2b9e3b7-ff66-4a17-8e88-616f5f013bc1",
   "metadata": {},
   "outputs": [
    {
     "name": "stdout",
     "output_type": "stream",
     "text": [
      "N(30): 4.89\n"
     ]
    }
   ],
   "source": [
    "print(f\"N(30): {data_q2.iloc[29, 1]:.3g}\")"
   ]
  },
  {
   "cell_type": "markdown",
   "id": "1be5d051-a2bc-4cab-b3bd-7bd553753f2a",
   "metadata": {},
   "source": [
    "### "
   ]
  },
  {
   "cell_type": "markdown",
   "id": "9265f7ca-17d5-4b44-995c-14fe126e42eb",
   "metadata": {},
   "source": [
    "**4. Continue to assume M=100. Estimate \"p\" and \"q\" from the adoption series from period 1 to 14, this time using the Continuous Bass Model of  Slide 21.  You can do this via nonlinear regression in python creating a formula based on the expression at the bottom of Slide 21. [Alternatively you can set up an optimization calculation to minimize the Sum of Squared Errors(SSE), like on Slides 23-25, shown in the spreadsheet adoptionseries1_continuous_bass_solved.xls. In this spreadsheet if we start with p=0.001, q=0.5, M=100 (the values you see when you see when you open the spreadsheet), and run SOLVER to optimize for p,q,M, then we get estimates as p=0.000596, q=0.418653, M=123.4005.] For this HW question, because M is already assumed to be M=100, we optimize  for only p and q,  fixing M at 100. Use your estimated values of p and q to estimate the value of N(30) under the Continuous Bass Model. No writeup necessary. Simply state your values of p, q, and N(30).**"
   ]
  },
  {
   "cell_type": "code",
   "execution_count": 14,
   "id": "e0116aa1-184c-401c-845f-1baa9bff5713",
   "metadata": {
    "tags": []
   },
   "outputs": [
    {
     "name": "stdout",
     "output_type": "stream",
     "text": [
      "p = 0.000955, q = 0.179\n"
     ]
    }
   ],
   "source": [
    "def model_func2(t, p, q):\n",
    "    M = 100\n",
    "    return M * (1 - np.exp(-(p+q)*t))/(1 + q/p*np.exp(-(p+q)*t)) - M * (1 - np.exp(-(p+q)*(t-1)))/(1 + q/p*np.exp(-(p+q)*(t-1)))\n",
    "\n",
    "params, covariance = curve_fit(model_func2, data['t'], data['N_t'], p0 = [0.02, 0.5])\n",
    "p, q = params\n",
    "\n",
    "print(f\"p = {p:.3g}, q = {q:.3g}\")"
   ]
  },
  {
   "cell_type": "code",
   "execution_count": 15,
   "id": "42523408-8e3c-483f-82e1-993bcc0bc71f",
   "metadata": {
    "tags": []
   },
   "outputs": [
    {
     "data": {
      "text/html": [
       "<div>\n",
       "<style scoped>\n",
       "    .dataframe tbody tr th:only-of-type {\n",
       "        vertical-align: middle;\n",
       "    }\n",
       "\n",
       "    .dataframe tbody tr th {\n",
       "        vertical-align: top;\n",
       "    }\n",
       "\n",
       "    .dataframe thead th {\n",
       "        text-align: right;\n",
       "    }\n",
       "</style>\n",
       "<table border=\"1\" class=\"dataframe\">\n",
       "  <thead>\n",
       "    <tr style=\"text-align: right;\">\n",
       "      <th></th>\n",
       "      <th>t</th>\n",
       "      <th>N_t</th>\n",
       "      <th>A</th>\n",
       "      <th>A^2</th>\n",
       "    </tr>\n",
       "  </thead>\n",
       "  <tbody>\n",
       "    <tr>\n",
       "      <th>0</th>\n",
       "      <td>1</td>\n",
       "      <td>0.123000</td>\n",
       "      <td>0.000000</td>\n",
       "      <td>0.000000</td>\n",
       "    </tr>\n",
       "    <tr>\n",
       "      <th>1</th>\n",
       "      <td>2</td>\n",
       "      <td>0.097000</td>\n",
       "      <td>0.123000</td>\n",
       "      <td>0.015129</td>\n",
       "    </tr>\n",
       "    <tr>\n",
       "      <th>2</th>\n",
       "      <td>3</td>\n",
       "      <td>0.171000</td>\n",
       "      <td>0.220000</td>\n",
       "      <td>0.048400</td>\n",
       "    </tr>\n",
       "    <tr>\n",
       "      <th>3</th>\n",
       "      <td>4</td>\n",
       "      <td>0.145000</td>\n",
       "      <td>0.391000</td>\n",
       "      <td>0.152881</td>\n",
       "    </tr>\n",
       "    <tr>\n",
       "      <th>4</th>\n",
       "      <td>5</td>\n",
       "      <td>0.238000</td>\n",
       "      <td>0.536000</td>\n",
       "      <td>0.287296</td>\n",
       "    </tr>\n",
       "    <tr>\n",
       "      <th>5</th>\n",
       "      <td>6</td>\n",
       "      <td>0.214000</td>\n",
       "      <td>0.774000</td>\n",
       "      <td>0.599076</td>\n",
       "    </tr>\n",
       "    <tr>\n",
       "      <th>6</th>\n",
       "      <td>7</td>\n",
       "      <td>0.333000</td>\n",
       "      <td>0.988000</td>\n",
       "      <td>0.976144</td>\n",
       "    </tr>\n",
       "    <tr>\n",
       "      <th>7</th>\n",
       "      <td>8</td>\n",
       "      <td>0.314000</td>\n",
       "      <td>1.321000</td>\n",
       "      <td>1.745041</td>\n",
       "    </tr>\n",
       "    <tr>\n",
       "      <th>8</th>\n",
       "      <td>9</td>\n",
       "      <td>0.466000</td>\n",
       "      <td>1.635000</td>\n",
       "      <td>2.673225</td>\n",
       "    </tr>\n",
       "    <tr>\n",
       "      <th>9</th>\n",
       "      <td>10</td>\n",
       "      <td>0.455000</td>\n",
       "      <td>2.101000</td>\n",
       "      <td>4.414201</td>\n",
       "    </tr>\n",
       "    <tr>\n",
       "      <th>10</th>\n",
       "      <td>11</td>\n",
       "      <td>0.650000</td>\n",
       "      <td>2.556000</td>\n",
       "      <td>6.533136</td>\n",
       "    </tr>\n",
       "    <tr>\n",
       "      <th>11</th>\n",
       "      <td>12</td>\n",
       "      <td>0.653000</td>\n",
       "      <td>3.206000</td>\n",
       "      <td>10.278436</td>\n",
       "    </tr>\n",
       "    <tr>\n",
       "      <th>12</th>\n",
       "      <td>13</td>\n",
       "      <td>0.902000</td>\n",
       "      <td>3.859000</td>\n",
       "      <td>14.891881</td>\n",
       "    </tr>\n",
       "    <tr>\n",
       "      <th>13</th>\n",
       "      <td>14</td>\n",
       "      <td>0.926000</td>\n",
       "      <td>4.761000</td>\n",
       "      <td>22.667121</td>\n",
       "    </tr>\n",
       "    <tr>\n",
       "      <th>14</th>\n",
       "      <td>15</td>\n",
       "      <td>1.135334</td>\n",
       "      <td>5.687000</td>\n",
       "      <td>32.341969</td>\n",
       "    </tr>\n",
       "    <tr>\n",
       "      <th>15</th>\n",
       "      <td>16</td>\n",
       "      <td>1.323179</td>\n",
       "      <td>6.822334</td>\n",
       "      <td>46.544245</td>\n",
       "    </tr>\n",
       "    <tr>\n",
       "      <th>16</th>\n",
       "      <td>17</td>\n",
       "      <td>1.534811</td>\n",
       "      <td>8.145513</td>\n",
       "      <td>66.349385</td>\n",
       "    </tr>\n",
       "    <tr>\n",
       "      <th>17</th>\n",
       "      <td>18</td>\n",
       "      <td>1.770535</td>\n",
       "      <td>9.680324</td>\n",
       "      <td>93.708679</td>\n",
       "    </tr>\n",
       "    <tr>\n",
       "      <th>18</th>\n",
       "      <td>19</td>\n",
       "      <td>2.029560</td>\n",
       "      <td>11.450859</td>\n",
       "      <td>131.122180</td>\n",
       "    </tr>\n",
       "    <tr>\n",
       "      <th>19</th>\n",
       "      <td>20</td>\n",
       "      <td>2.309648</td>\n",
       "      <td>13.480419</td>\n",
       "      <td>181.721706</td>\n",
       "    </tr>\n",
       "    <tr>\n",
       "      <th>20</th>\n",
       "      <td>21</td>\n",
       "      <td>2.606772</td>\n",
       "      <td>15.790068</td>\n",
       "      <td>249.326242</td>\n",
       "    </tr>\n",
       "    <tr>\n",
       "      <th>21</th>\n",
       "      <td>22</td>\n",
       "      <td>2.914837</td>\n",
       "      <td>18.396840</td>\n",
       "      <td>338.443724</td>\n",
       "    </tr>\n",
       "    <tr>\n",
       "      <th>22</th>\n",
       "      <td>23</td>\n",
       "      <td>3.225549</td>\n",
       "      <td>21.311677</td>\n",
       "      <td>454.187567</td>\n",
       "    </tr>\n",
       "    <tr>\n",
       "      <th>23</th>\n",
       "      <td>24</td>\n",
       "      <td>3.528516</td>\n",
       "      <td>24.537226</td>\n",
       "      <td>602.075450</td>\n",
       "    </tr>\n",
       "    <tr>\n",
       "      <th>24</th>\n",
       "      <td>25</td>\n",
       "      <td>3.811648</td>\n",
       "      <td>28.065742</td>\n",
       "      <td>787.685863</td>\n",
       "    </tr>\n",
       "    <tr>\n",
       "      <th>25</th>\n",
       "      <td>26</td>\n",
       "      <td>4.061907</td>\n",
       "      <td>31.877390</td>\n",
       "      <td>1016.167979</td>\n",
       "    </tr>\n",
       "    <tr>\n",
       "      <th>26</th>\n",
       "      <td>27</td>\n",
       "      <td>4.266373</td>\n",
       "      <td>35.939297</td>\n",
       "      <td>1291.633039</td>\n",
       "    </tr>\n",
       "    <tr>\n",
       "      <th>27</th>\n",
       "      <td>28</td>\n",
       "      <td>4.413521</td>\n",
       "      <td>40.205669</td>\n",
       "      <td>1616.495845</td>\n",
       "    </tr>\n",
       "    <tr>\n",
       "      <th>28</th>\n",
       "      <td>29</td>\n",
       "      <td>4.494518</td>\n",
       "      <td>44.619190</td>\n",
       "      <td>1990.872108</td>\n",
       "    </tr>\n",
       "    <tr>\n",
       "      <th>29</th>\n",
       "      <td>30</td>\n",
       "      <td>4.504310</td>\n",
       "      <td>49.113708</td>\n",
       "      <td>2412.156286</td>\n",
       "    </tr>\n",
       "  </tbody>\n",
       "</table>\n",
       "</div>"
      ],
      "text/plain": [
       "     t       N_t          A          A^2\n",
       "0    1  0.123000   0.000000     0.000000\n",
       "1    2  0.097000   0.123000     0.015129\n",
       "2    3  0.171000   0.220000     0.048400\n",
       "3    4  0.145000   0.391000     0.152881\n",
       "4    5  0.238000   0.536000     0.287296\n",
       "5    6  0.214000   0.774000     0.599076\n",
       "6    7  0.333000   0.988000     0.976144\n",
       "7    8  0.314000   1.321000     1.745041\n",
       "8    9  0.466000   1.635000     2.673225\n",
       "9   10  0.455000   2.101000     4.414201\n",
       "10  11  0.650000   2.556000     6.533136\n",
       "11  12  0.653000   3.206000    10.278436\n",
       "12  13  0.902000   3.859000    14.891881\n",
       "13  14  0.926000   4.761000    22.667121\n",
       "14  15  1.135334   5.687000    32.341969\n",
       "15  16  1.323179   6.822334    46.544245\n",
       "16  17  1.534811   8.145513    66.349385\n",
       "17  18  1.770535   9.680324    93.708679\n",
       "18  19  2.029560  11.450859   131.122180\n",
       "19  20  2.309648  13.480419   181.721706\n",
       "20  21  2.606772  15.790068   249.326242\n",
       "21  22  2.914837  18.396840   338.443724\n",
       "22  23  3.225549  21.311677   454.187567\n",
       "23  24  3.528516  24.537226   602.075450\n",
       "24  25  3.811648  28.065742   787.685863\n",
       "25  26  4.061907  31.877390  1016.167979\n",
       "26  27  4.266373  35.939297  1291.633039\n",
       "27  28  4.413521  40.205669  1616.495845\n",
       "28  29  4.494518  44.619190  1990.872108\n",
       "29  30  4.504310  49.113708  2412.156286"
      ]
     },
     "execution_count": 15,
     "metadata": {},
     "output_type": "execute_result"
    }
   ],
   "source": [
    "data_q3 = data.copy()\n",
    "\n",
    "for i in range(14, 30):\n",
    "    data_q3.loc[i] = 0\n",
    "    data_q3.iloc[i, 0] = i + 1\n",
    "    data_q3.iloc[i, 2] = data_q3.iloc[i - 1, 2] + data_q3.iloc[i - 1, 1]\n",
    "    data_q3.iloc[i, 3] = data_q3.iloc[i, 2] ** 2\n",
    "    data_q3.iloc[i, 1] = model_func2(data_q3.iloc[i, 0], p,q)\n",
    "\n",
    "data_q3"
   ]
  },
  {
   "cell_type": "code",
   "execution_count": 16,
   "id": "80a382d6-c95b-4ce6-a9d0-7df7cea04dd3",
   "metadata": {},
   "outputs": [
    {
     "name": "stdout",
     "output_type": "stream",
     "text": [
      "N(30): 4.5\n"
     ]
    }
   ],
   "source": [
    "print(f\"N(30): {data_q3.iloc[29, 1]:.3g}\")"
   ]
  },
  {
   "cell_type": "markdown",
   "id": "7cc2171c-ed51-409b-b870-4ee397353dcf",
   "metadata": {},
   "source": [
    "## Question Q2"
   ]
  },
  {
   "cell_type": "markdown",
   "id": "43e2f2cc-93f2-4ec7-9c3a-83ada97e2169",
   "metadata": {},
   "source": [
    "**Consider M to be 100. Plot the N(t) curve as specified by the Bass Model for a broad range of value pairs for p and q, with p ranging from 0.005 to 0.08 and  q ranging from 0.1 to 0.8. Use the Discrete Bass model for this because it is simpler and leads to the same qualitative conclusions for this question as the Continuous Bass.  From these plots, make some summary observations on how the absolute and relative values of p and q influence different  aspects of the N(t) curve , like the shape, height, slope and decay duration. The motivation for this question is that if you know how p and q affect the shape of the curve, then this should allow you, by reverse-logic, to guess the value of p and q if you see the shape of the curve. Make sure you scale the plots the same way so that comparisons are easy to make. In your submitted response,  reproduce some of your plots to illustrate your summary observations. You will probably generate many plots to get an understanding of how p and q affect the N(t) curve. You definitely do not have to reproduce all of those plots in your submission, just enough to illustrate your summary observations.**"
   ]
  },
  {
   "cell_type": "code",
   "execution_count": 17,
   "id": "64685578-631d-49e0-8806-d45838d91040",
   "metadata": {
    "tags": []
   },
   "outputs": [],
   "source": [
    "p_values = np.linspace(0.005, 0.08, 4)\n",
    "q_values = np.linspace(0.1, 0.8, 4)"
   ]
  },
  {
   "cell_type": "code",
   "execution_count": 18,
   "id": "a04badf1-46cd-4780-91d9-51bbc41add9c",
   "metadata": {
    "tags": []
   },
   "outputs": [
    {
     "data": {
      "image/png": "[encoded data removed]",
      "text/plain": [
       "<Figure size 1600x1000 with 16 Axes>"
      ]
     },
     "metadata": {},
     "output_type": "display_data"
    }
   ],
   "source": [
    "n_rows = len(p_values)\n",
    "n_cols = len(q_values)\n",
    "\n",
    "fig, axs = plt.subplots(n_rows, n_cols, figsize=(16, 10), sharex=True, sharey=True)\n",
    "\n",
    "\n",
    "for k, p in enumerate(p_values):\n",
    "    for j, q in enumerate(q_values):\n",
    "        data_q4 = data.copy()\n",
    "        for i in range(14, 50):\n",
    "            data_q4.loc[i] = 0\n",
    "            data_q4.iloc[i, 0] = i + 1\n",
    "            data_q4.iloc[i, 2] = data_q4.iloc[i - 1, 2] + data_q4.iloc[i - 1, 1]\n",
    "            data_q4.iloc[i, 3] = data_q4.iloc[i, 2] ** 2\n",
    "            data_q4.iloc[i, 1] = model_func(data_q4.iloc[i, 2], p, q)\n",
    "        \n",
    "        ax = axs[k, j]\n",
    "        ax.plot(data_q4.iloc[:, 0], data_q4.iloc[:, 1])\n",
    "        ax.set_title(f'p={p:.3f}, q={q:.3f}')\n",
    "\n",
    "# Add a big shared xlabel and ylabel\n",
    "plt.tight_layout()\n",
    "plt.show()\n"
   ]
  },
  {
   "cell_type": "markdown",
   "id": "d2dbb348-f882-44a2-a2fc-e757d549d2a9",
   "metadata": {},
   "source": [
    "In all the above graphs, p is smaller than q, which shows that the curve starts near zero, indicating no new adopters at the beginning, possibly due to high risk or costly trials. As the p value increases, the curve rises more quickly, suggesting that a higher rate of innovation leads to earlier adoption. Conversely, when the q value increases, the curve exhibits a sharper peak or a steeper slope, signifying that a strong effect of imitation leads to more rapid adoption. Overall, larger p and q values result in an earlier peak, and the decay duration after the peak is mainly influenced by q; after reaching the peak, the number of new adopters decreases sharply, and eventually, there are no more new adopters."
   ]
  },
  {
   "cell_type": "markdown",
   "id": "9b637ca9-b19c-4640-8b67-d301a3e1d083",
   "metadata": {},
   "source": [
    "## Question 3"
   ]
  },
  {
   "cell_type": "markdown",
   "id": "eae2f249-7b6b-4d56-ab82-ca98f507ca66",
   "metadata": {},
   "source": [
    "**Comparing Slides 12,13 with Slides 14,15, we see that the estimation error of M is larger  in the first case than in the second case, and consequently the forecasted curve beyond period 15 is much further from the true curve in the first case than in the second case.  What differences in the two time series or the nature of the noise (up to period 15) lead to the difference  described in the previous sentence? The main point of this question is not to tie you specifically to the examples on the slides but to make you think more broadly about the situations in the data or problem that lead to M being estimated poorly.  If you want, you can experiment with different values of p,q, different levels of noise and compare the forecasted curve with noise with the forecasted curve without noise as slides 14 and 16 do, or compute the magnitude of error in the estimated value of M.  This question is open ended, with a response ranging from 2 sentences to 3 pages. Points  will be accrued in proportion to the depth of analysis.**"
   ]
  },
  {
   "cell_type": "markdown",
   "id": "14d0755d-1559-4f70-b48b-5ecdd71c1d4a",
   "metadata": {},
   "source": [
    "### situation 1: p1 = 0.005, q1= 0.8, M1 = 100"
   ]
  },
  {
   "cell_type": "code",
   "execution_count": 39,
   "id": "cecc0d5b-3c33-4299-a6ca-e35d83bf19f5",
   "metadata": {
    "tags": []
   },
   "outputs": [],
   "source": [
    "# true value\n",
    "p1, q1, M1 = 0.005, 0.8, 100\n",
    "\n",
    "data_q5 = data.copy()\n",
    "\n",
    "for i in range(14, 50):\n",
    "    data_q5.loc[i] = 0\n",
    "    data_q5.iloc[i, 0] = i + 1\n",
    "    data_q5.iloc[i, 2] = data_q5.iloc[i - 1, 2] + data_q5.iloc[i - 1, 1]\n",
    "    data_q5.iloc[i, 3] = data_q5.iloc[i, 2] ** 2\n",
    "    data_q5.iloc[i, 1] = M1 * p1 + (q1 - p1) * data_q5.iloc[i, 2] - (q1/M1) * data_q5.iloc[i, 3]\n",
    "\n",
    "N_true_1 = data_q5"
   ]
  },
  {
   "cell_type": "code",
   "execution_count": 40,
   "id": "1084856a-5688-4f0d-bf4d-ddffae4dc28b",
   "metadata": {
    "tags": []
   },
   "outputs": [
    {
     "name": "stdout",
     "output_type": "stream",
     "text": [
      "p: 0.00361\n",
      "q: 0.22\n",
      "M: 26.8\n"
     ]
    }
   ],
   "source": [
    "# add noise\n",
    "data_noisy_1 = data[['t', 'N_t']].copy()\n",
    "\n",
    "noise_level = 0.1\n",
    "noise = np.random.uniform(-noise_level, noise_level, size=len(data_noisy_1))\n",
    "\n",
    "data_noisy_1['N_t_noisy'] = data_noisy_1['N_t'] * (1 + noise)\n",
    "data_noisy_1 = data_noisy_1.drop('N_t', axis = 1)\n",
    "\n",
    "# calculate pqM\n",
    "data_noisy_1['A'] = 0\n",
    "data_noisy_1['A^2'] = 0\n",
    "\n",
    "for i in range(1, data_noisy_1.shape[0]):\n",
    "    data_noisy_1.iloc[i, 2] = data_noisy_1.iloc[i - 1, 2] + data_noisy_1.iloc[i - 1, 1]\n",
    "    data_noisy_1.iloc[i, 3] = data_noisy_1.iloc[i, 2] ** 2\n",
    "    \n",
    "linear_reg_noise1  = smf.ols(formula = 'N_t_noisy ~ A + I(A**2)', data = data_noisy_1)\n",
    "result = linear_reg_noise1.fit()\n",
    "# print(result.summary())\n",
    "\n",
    "a = result.params['Intercept']\n",
    "b = result.params['A']\n",
    "c = result.params['I(A ** 2)']\n",
    "\n",
    "p = (np.sqrt(b**2-4*a*c)-b)/2\n",
    "q = (np.sqrt(b**2-4*a*c)+b)/2\n",
    "M = -q/c\n",
    "\n",
    "print(f\"p: {p:.3g}\")\n",
    "print(f\"q: {q:.3g}\")\n",
    "print(f\"M: {M:.3g}\")"
   ]
  },
  {
   "cell_type": "code",
   "execution_count": 41,
   "id": "da8818ea-0b48-4d0c-ac9b-dc0dd5985a2b",
   "metadata": {
    "tags": []
   },
   "outputs": [],
   "source": [
    "# noisy value\n",
    "\n",
    "data_q6 = data_noisy_1.copy()\n",
    "\n",
    "for i in range(14, 50):\n",
    "    data_q6.loc[i] = 0\n",
    "    data_q6.iloc[i, 0] = i + 1\n",
    "    data_q6.iloc[i, 2] = data_q6.iloc[i - 1, 2] + data_q6.iloc[i - 1, 1]\n",
    "    data_q6.iloc[i, 3] = data_q6.iloc[i, 2] ** 2\n",
    "    data_q6.iloc[i, 1] = a + b * data_q6.iloc[i, 2] + c * data_q6.iloc[i, 3]\n",
    "\n",
    "# data_q6\n",
    "N_noise_1 = data_q6"
   ]
  },
  {
   "cell_type": "code",
   "execution_count": 42,
   "id": "438e0d69-e189-4ba2-b0c8-1c0c36a3900d",
   "metadata": {
    "tags": []
   },
   "outputs": [
    {
     "data": {
      "text/plain": [
       "<matplotlib.legend.Legend at 0x155d32920>"
      ]
     },
     "execution_count": 42,
     "metadata": {},
     "output_type": "execute_result"
    },
    {
     "data": {
      "image/png": "[encoded data removed]",
      "text/plain": [
       "<Figure size 1400x700 with 1 Axes>"
      ]
     },
     "metadata": {},
     "output_type": "display_data"
    }
   ],
   "source": [
    "plt.figure(figsize=(14, 7))\n",
    "\n",
    "# Scenario 1\n",
    "plt.subplot(1, 2, 1)\n",
    "plt.plot(N_true_1['t'], N_true_1['N_t'], label=\"True Curve (Low p, High q)\")\n",
    "plt.scatter(N_noise_1['t'], N_noise_1['N_t_noisy'], color='red', label=\"Noisy Data (Low p, High q)\")\n",
    "plt.xlabel(\"t\")\n",
    "plt.ylabel(\"Number of Adopters\")\n",
    "plt.title(\"Scenario 1: Low p = 0.005, High q = 0.8\")\n",
    "plt.legend()"
   ]
  },
  {
   "cell_type": "markdown",
   "id": "eafc1199-7ec4-4092-b46c-6a224bcaf8ac",
   "metadata": {},
   "source": [
    "### situation 2: p2 = 0.08, q2 = 0.1, M2 = 100"
   ]
  },
  {
   "cell_type": "code",
   "execution_count": 23,
   "id": "d4dd8c0a-a47d-4d06-880f-fd7c5cf8d316",
   "metadata": {
    "tags": []
   },
   "outputs": [],
   "source": [
    "# true value\n",
    "p2, q2, M2 = 0.08, 0.1, 100\n",
    "\n",
    "data_q7 = data.copy()\n",
    "\n",
    "for i in range(14, 50):\n",
    "    data_q7.loc[i] = 0\n",
    "    data_q7.iloc[i, 0] = i + 1\n",
    "    data_q7.iloc[i, 2] = data_q7.iloc[i - 1, 2] + data_q7.iloc[i - 1, 1]\n",
    "    data_q7.iloc[i, 3] = data_q7.iloc[i, 2] ** 2\n",
    "    data_q7.iloc[i, 1] = M2 * p2 + (q2 - p2) * data_q7.iloc[i, 2] - (q2/M2) * data_q7.iloc[i, 3]\n",
    "\n",
    "N_true_2 = data_q7"
   ]
  },
  {
   "cell_type": "code",
   "execution_count": 24,
   "id": "7893de12-f73d-4787-89eb-c43d3818c176",
   "metadata": {
    "tags": []
   },
   "outputs": [
    {
     "name": "stdout",
     "output_type": "stream",
     "text": [
      "p: 0.00188\n",
      "q: 0.203\n",
      "M: 54.3\n"
     ]
    }
   ],
   "source": [
    "# add noise\n",
    "data_noisy_2 = data[['t', 'N_t']].copy()\n",
    "\n",
    "noise_level = 0.1\n",
    "noise = np.random.uniform(-noise_level, noise_level, size=len(data_noisy_1))\n",
    "\n",
    "data_noisy_2['N_t_noisy'] = data_noisy_2['N_t'] * (1 + noise)\n",
    "data_noisy_2 = data_noisy_2.drop('N_t', axis = 1)\n",
    "\n",
    "# calculate pqM\n",
    "data_noisy_2['A'] = 0\n",
    "data_noisy_2['A^2'] = 0\n",
    "\n",
    "for i in range(1, data_noisy_2.shape[0]):\n",
    "    data_noisy_2.iloc[i, 2] = data_noisy_2.iloc[i - 1, 2] + data_noisy_2.iloc[i - 1, 1]\n",
    "    data_noisy_2.iloc[i, 3] = data_noisy_2.iloc[i, 2] ** 2\n",
    "    \n",
    "linear_reg_noise2  = smf.ols(formula = 'N_t_noisy ~ A + I(A**2)', data = data_noisy_2)\n",
    "result = linear_reg_noise2.fit()\n",
    "# print(result.summary())\n",
    "\n",
    "a = result.params['Intercept']\n",
    "b = result.params['A']\n",
    "c = result.params['I(A ** 2)']\n",
    "\n",
    "p = (np.sqrt(b**2-4*a*c)-b)/2\n",
    "q = (np.sqrt(b**2-4*a*c)+b)/2\n",
    "M = -q/c\n",
    "\n",
    "print(f\"p: {p:.3g}\")\n",
    "print(f\"q: {q:.3g}\")\n",
    "print(f\"M: {M:.3g}\")"
   ]
  },
  {
   "cell_type": "code",
   "execution_count": 25,
   "id": "b2503fa7-f9cf-4dc4-bb47-7e3a6d2e8306",
   "metadata": {
    "tags": []
   },
   "outputs": [],
   "source": [
    "# noisy value\n",
    "\n",
    "data_q8 = data_noisy_2.copy()\n",
    "\n",
    "for i in range(14, 50):\n",
    "    data_q8.loc[i] = 0\n",
    "    data_q8.iloc[i, 0] = i + 1\n",
    "    data_q8.iloc[i, 2] = data_q8.iloc[i - 1, 2] + data_q8.iloc[i - 1, 1]\n",
    "    data_q8.iloc[i, 3] = data_q8.iloc[i, 2] ** 2\n",
    "    data_q8.iloc[i, 1] = a + b * data_q8.iloc[i, 2] + c * data_q8.iloc[i, 3]\n",
    "\n",
    "# data_q6\n",
    "N_noise_2 = data_q8"
   ]
  },
  {
   "cell_type": "code",
   "execution_count": 26,
   "id": "89176ddb-90e5-4b7d-b1c5-81085bf20d3e",
   "metadata": {
    "tags": []
   },
   "outputs": [
    {
     "data": {
      "text/plain": [
       "<matplotlib.legend.Legend at 0x15606afb0>"
      ]
     },
     "execution_count": 26,
     "metadata": {},
     "output_type": "execute_result"
    },
    {
     "data": {
      "image/png": "[encoded data removed]",
      "text/plain": [
       "<Figure size 1400x700 with 1 Axes>"
      ]
     },
     "metadata": {},
     "output_type": "display_data"
    }
   ],
   "source": [
    "plt.figure(figsize=(14, 7))\n",
    "\n",
    "# Scenario 2\n",
    "plt.subplot(1, 2, 1)\n",
    "plt.plot(N_true_2['t'], N_true_2['N_t'], label=\"True Curve (High p, Low q)\")\n",
    "plt.scatter(N_noise_2['t'], N_noise_2['N_t_noisy'], color='red', label=\"Noisy Data (High p, Low q)\")\n",
    "plt.xlabel(\"t\")\n",
    "plt.ylabel(\"Number of Adopters\")\n",
    "plt.title(\"Scenario 2: High p = 0.08, Low q = 0.1\")\n",
    "plt.legend()"
   ]
  },
  {
   "cell_type": "markdown",
   "id": "96047def-eb93-4b2e-ad3b-694d82eff559",
   "metadata": {},
   "source": [
    "## Question 4"
   ]
  },
  {
   "cell_type": "markdown",
   "id": "3a12f7dd-e577-421d-8be1-6d46ed247ce6",
   "metadata": {},
   "source": [
    "**A model is a linear regression model when the number of predictors (including the constant column of 1s) is equal to the number of parameters to be estimated and there is a one-to-one mapping between the coefficients and the parameters to be estimated. If this condition fails to hold then it is a nonlinear regression. Linear regression does not necessarily mean that the plot between X and expected Y looks like a straight line.  In the equation N(t) = Mp + (q-p)A(t) - (q/M)A^2(t), if M is not fixed then there are three parameters (p,q,M) and three predictors including the intercept, and also there is a  one-to-one mapping, so this is a linear regression. In that same equation, if M is fixed then there are only two parameters and still three predictors, and so it becomes a nonlinear regression. Note, however, that in some cases, it is possible to modify the expression in a nonlinear regression situation to bring it to a linear regression situation, and indeed that modification is possible in the case of N(t) = Mp + (q-p)A(t) - (q/M)A^2(t) with M fixed as we do in Question Q1.2. What is that modification? Another way to ask this question: What are the predictors you will use in the post-modification linear regression? How do you get the values of p and q from the coefficients of this linear regression? Run the corresponding linear regression and verify that you get the same p and q values as in Question Q1.2. This question is about the discrete Bass and not continuous Bass.**"
   ]
  },
  {
   "cell_type": "code",
   "execution_count": 27,
   "id": "ab60b89c-ea23-464e-9da6-a12d7f8ad944",
   "metadata": {
    "tags": []
   },
   "outputs": [
    {
     "data": {
      "text/html": [
       "<div>\n",
       "<style scoped>\n",
       "    .dataframe tbody tr th:only-of-type {\n",
       "        vertical-align: middle;\n",
       "    }\n",
       "\n",
       "    .dataframe tbody tr th {\n",
       "        vertical-align: top;\n",
       "    }\n",
       "\n",
       "    .dataframe thead th {\n",
       "        text-align: right;\n",
       "    }\n",
       "</style>\n",
       "<table border=\"1\" class=\"dataframe\">\n",
       "  <thead>\n",
       "    <tr style=\"text-align: right;\">\n",
       "      <th></th>\n",
       "      <th>t</th>\n",
       "      <th>N_t</th>\n",
       "      <th>A</th>\n",
       "      <th>A^2</th>\n",
       "      <th>A_2_M</th>\n",
       "    </tr>\n",
       "  </thead>\n",
       "  <tbody>\n",
       "    <tr>\n",
       "      <th>0</th>\n",
       "      <td>1</td>\n",
       "      <td>0.123</td>\n",
       "      <td>0.000</td>\n",
       "      <td>0.000000</td>\n",
       "      <td>0.000000</td>\n",
       "    </tr>\n",
       "    <tr>\n",
       "      <th>1</th>\n",
       "      <td>2</td>\n",
       "      <td>0.097</td>\n",
       "      <td>0.123</td>\n",
       "      <td>0.015129</td>\n",
       "      <td>0.000151</td>\n",
       "    </tr>\n",
       "    <tr>\n",
       "      <th>2</th>\n",
       "      <td>3</td>\n",
       "      <td>0.171</td>\n",
       "      <td>0.220</td>\n",
       "      <td>0.048400</td>\n",
       "      <td>0.000484</td>\n",
       "    </tr>\n",
       "    <tr>\n",
       "      <th>3</th>\n",
       "      <td>4</td>\n",
       "      <td>0.145</td>\n",
       "      <td>0.391</td>\n",
       "      <td>0.152881</td>\n",
       "      <td>0.001529</td>\n",
       "    </tr>\n",
       "    <tr>\n",
       "      <th>4</th>\n",
       "      <td>5</td>\n",
       "      <td>0.238</td>\n",
       "      <td>0.536</td>\n",
       "      <td>0.287296</td>\n",
       "      <td>0.002873</td>\n",
       "    </tr>\n",
       "    <tr>\n",
       "      <th>5</th>\n",
       "      <td>6</td>\n",
       "      <td>0.214</td>\n",
       "      <td>0.774</td>\n",
       "      <td>0.599076</td>\n",
       "      <td>0.005991</td>\n",
       "    </tr>\n",
       "    <tr>\n",
       "      <th>6</th>\n",
       "      <td>7</td>\n",
       "      <td>0.333</td>\n",
       "      <td>0.988</td>\n",
       "      <td>0.976144</td>\n",
       "      <td>0.009761</td>\n",
       "    </tr>\n",
       "    <tr>\n",
       "      <th>7</th>\n",
       "      <td>8</td>\n",
       "      <td>0.314</td>\n",
       "      <td>1.321</td>\n",
       "      <td>1.745041</td>\n",
       "      <td>0.017450</td>\n",
       "    </tr>\n",
       "    <tr>\n",
       "      <th>8</th>\n",
       "      <td>9</td>\n",
       "      <td>0.466</td>\n",
       "      <td>1.635</td>\n",
       "      <td>2.673225</td>\n",
       "      <td>0.026732</td>\n",
       "    </tr>\n",
       "    <tr>\n",
       "      <th>9</th>\n",
       "      <td>10</td>\n",
       "      <td>0.455</td>\n",
       "      <td>2.101</td>\n",
       "      <td>4.414201</td>\n",
       "      <td>0.044142</td>\n",
       "    </tr>\n",
       "    <tr>\n",
       "      <th>10</th>\n",
       "      <td>11</td>\n",
       "      <td>0.650</td>\n",
       "      <td>2.556</td>\n",
       "      <td>6.533136</td>\n",
       "      <td>0.065331</td>\n",
       "    </tr>\n",
       "    <tr>\n",
       "      <th>11</th>\n",
       "      <td>12</td>\n",
       "      <td>0.653</td>\n",
       "      <td>3.206</td>\n",
       "      <td>10.278436</td>\n",
       "      <td>0.102784</td>\n",
       "    </tr>\n",
       "    <tr>\n",
       "      <th>12</th>\n",
       "      <td>13</td>\n",
       "      <td>0.902</td>\n",
       "      <td>3.859</td>\n",
       "      <td>14.891881</td>\n",
       "      <td>0.148919</td>\n",
       "    </tr>\n",
       "    <tr>\n",
       "      <th>13</th>\n",
       "      <td>14</td>\n",
       "      <td>0.926</td>\n",
       "      <td>4.761</td>\n",
       "      <td>22.667121</td>\n",
       "      <td>0.226671</td>\n",
       "    </tr>\n",
       "  </tbody>\n",
       "</table>\n",
       "</div>"
      ],
      "text/plain": [
       "     t    N_t      A        A^2     A_2_M\n",
       "0    1  0.123  0.000   0.000000  0.000000\n",
       "1    2  0.097  0.123   0.015129  0.000151\n",
       "2    3  0.171  0.220   0.048400  0.000484\n",
       "3    4  0.145  0.391   0.152881  0.001529\n",
       "4    5  0.238  0.536   0.287296  0.002873\n",
       "5    6  0.214  0.774   0.599076  0.005991\n",
       "6    7  0.333  0.988   0.976144  0.009761\n",
       "7    8  0.314  1.321   1.745041  0.017450\n",
       "8    9  0.466  1.635   2.673225  0.026732\n",
       "9   10  0.455  2.101   4.414201  0.044142\n",
       "10  11  0.650  2.556   6.533136  0.065331\n",
       "11  12  0.653  3.206  10.278436  0.102784\n",
       "12  13  0.902  3.859  14.891881  0.148919\n",
       "13  14  0.926  4.761  22.667121  0.226671"
      ]
     },
     "execution_count": 27,
     "metadata": {},
     "output_type": "execute_result"
    }
   ],
   "source": [
    "data_q9 = data.copy()\n",
    "\n",
    "M = 100\n",
    "data_q9['A_2_M'] = data_q9['A^2'] / M\n",
    "\n",
    "data_q9"
   ]
  },
  {
   "cell_type": "code",
   "execution_count": 28,
   "id": "76442d32-be4c-4378-a3aa-47c0cdfe51a9",
   "metadata": {
    "tags": []
   },
   "outputs": [
    {
     "name": "stdout",
     "output_type": "stream",
     "text": [
      "                            OLS Regression Results                            \n",
      "==============================================================================\n",
      "Dep. Variable:                    N_t   R-squared:                       0.972\n",
      "Model:                            OLS   Adj. R-squared:                  0.966\n",
      "Method:                 Least Squares   F-statistic:                     188.4\n",
      "Date:                Tue, 09 Apr 2024   Prob (F-statistic):           3.09e-09\n",
      "Time:                        01:33:25   Log-Likelihood:                 23.404\n",
      "No. Observations:                  14   AIC:                            -40.81\n",
      "Df Residuals:                      11   BIC:                            -38.89\n",
      "Df Model:                           2                                         \n",
      "Covariance Type:            nonrobust                                         \n",
      "==============================================================================\n",
      "                 coef    std err          t      P>|t|      [0.025      0.975]\n",
      "------------------------------------------------------------------------------\n",
      "Intercept      0.0961      0.027      3.611      0.004       0.038       0.155\n",
      "A              0.2113      0.033      6.434      0.000       0.139       0.284\n",
      "A_2_M         -0.6223      0.718     -0.866      0.405      -2.203       0.959\n",
      "==============================================================================\n",
      "Omnibus:                        3.290   Durbin-Watson:                   3.731\n",
      "Prob(Omnibus):                  0.193   Jarque-Bera (JB):                1.203\n",
      "Skew:                           0.191   Prob(JB):                        0.548\n",
      "Kurtosis:                       1.616   Cond. No.                         120.\n",
      "==============================================================================\n",
      "\n",
      "Notes:\n",
      "[1] Standard Errors assume that the covariance matrix of the errors is correctly specified.\n"
     ]
    },
    {
     "name": "stderr",
     "output_type": "stream",
     "text": [
      "/Users/elenapan/anaconda3/lib/python3.10/site-packages/scipy/stats/_stats_py.py:1806: UserWarning: kurtosistest only valid for n>=20 ... continuing anyway, n=14\n",
      "  warnings.warn(\"kurtosistest only valid for n>=20 ... continuing \"\n"
     ]
    }
   ],
   "source": [
    "linear_reg_3  = smf.ols(formula = 'N_t ~ A + A_2_M', data = data_q9)\n",
    "result = linear_reg_3.fit()\n",
    "print(result.summary())"
   ]
  },
  {
   "cell_type": "code",
   "execution_count": 29,
   "id": "7cf99688-7062-4d93-b9b4-780370beba5b",
   "metadata": {
    "tags": []
   },
   "outputs": [
    {
     "data": {
      "text/plain": [
       "(0.21226579735423332, 0.6222908592151059, False)"
      ]
     },
     "execution_count": 29,
     "metadata": {},
     "output_type": "execute_result"
    }
   ],
   "source": [
    "a = result.params['Intercept']\n",
    "b = result.params['A']\n",
    "c = result.params['A_2_M']\n",
    "\n",
    "p = a / M\n",
    "q = b + p  \n",
    "q_M = -c  \n",
    "\n",
    "q, q_M, np.isclose(q, q_M)"
   ]
  },
  {
   "cell_type": "code",
   "execution_count": 30,
   "id": "9e78bb16-c70f-4782-8997-4f1d3507cb83",
   "metadata": {
    "tags": []
   },
   "outputs": [
    {
     "data": {
      "text/plain": [
       "0.0009607195064567392"
      ]
     },
     "execution_count": 30,
     "metadata": {},
     "output_type": "execute_result"
    }
   ],
   "source": [
    "p"
   ]
  },
  {
   "cell_type": "code",
   "execution_count": 31,
   "id": "ca9f8e5d-e18c-466d-a0f6-db59fb0e33c4",
   "metadata": {},
   "outputs": [],
   "source": [
    "#######################################################################################################"
   ]
  },
  {
   "cell_type": "markdown",
   "id": "ef87f136-09bd-41ad-aa81-78ff8db337d6",
   "metadata": {},
   "source": [
    "## Question 5"
   ]
  },
  {
   "cell_type": "markdown",
   "id": "c93aaa05-a675-4dd2-ae4d-78d6892de370",
   "metadata": {},
   "source": [
    "**For as many of the questions Q1 through Q4 above that you attempted, use a generative AI tool to produce python or R code. The code should be able to solve the HW problem exactly, it should not be code that solves some different, though related, problem. For each question, submit the following: (A) The prompt or sequence of prompts that you entered into the generative tool, (B) an identification of which sequence of prompts was entered into which  generative tool (like ChatGPT, Bing Chat, Bard, GitHub Copilot), (C) generative tool's  output from each prompt, identifying which output corresponds to which prompt and which generative tool.**"
   ]
  },
  {
   "cell_type": "markdown",
   "id": "8724a659-f581-4a0e-a1a8-7ab791cc954d",
   "metadata": {},
   "source": [
    "### Question 1 ChatGPT"
   ]
  },
  {
   "cell_type": "markdown",
   "id": "000da913-f869-4a33-8989-dd16a7009df9",
   "metadata": {},
   "source": [
    "Paste all the prompts into the ChatGPT 4.0 with the Excel file, and below is the output:"
   ]
  },
  {
   "cell_type": "markdown",
   "id": "bc169053-4ebe-499c-bae5-bf5202e9660a",
   "metadata": {},
   "source": [
    "1. Estimate \"M\", \"p\" and \"q\" from the adoption series dataset using the linear regression approach described on Slides 8 and 9. From  these values, compute the values of N(t) beyond t=14. Specifically, compute N(30). No writeup necessary, simply state your values of \"M\", \"p\", \"q\" and N(30)."
   ]
  },
  {
   "cell_type": "code",
   "execution_count": 32,
   "id": "c86ef3c2-2129-4284-808b-cd1d3d6afc25",
   "metadata": {
    "tags": []
   },
   "outputs": [
    {
     "data": {
      "text/plain": [
       "(95.38201444565208,\n",
       " 0.001888434061345451,\n",
       " 5.459200858812818e-05,\n",
       " 0.1706221823858991)"
      ]
     },
     "execution_count": 32,
     "metadata": {},
     "output_type": "execute_result"
    }
   ],
   "source": [
    "import pandas as pd\n",
    "\n",
    "# Load the dataset\n",
    "df = pd.read_excel(\"adoptionseries2_with_noise.xlsx\")\n",
    "\n",
    "# Display the first few rows of the dataset to understand its structure\n",
    "df.head()\n",
    "\n",
    "from scipy.optimize import curve_fit\n",
    "import numpy as np\n",
    "\n",
    "# Define the cumulative function according to the Bass model\n",
    "def cumulative_bass_model(t, M, p, q):\n",
    "    \"\"\"\n",
    "    Cumulative adopters function of the Bass model.\n",
    "    \"\"\"\n",
    "    part1 = (1 - np.exp(-(p + q) * t))\n",
    "    part2 = 1 + q / p * np.exp(-(p + q) * t)\n",
    "    return M * part1 / part2\n",
    "\n",
    "# Compute cumulative adopters\n",
    "df['N_cumulative'] = df['N(t)'].cumsum()\n",
    "\n",
    "# Initial guesses for M, p, and q\n",
    "M_guess = df['N_cumulative'].iloc[-1]  # Assume final cumulative value as initial M\n",
    "p_guess = 0.03  # Typical starting value for p\n",
    "q_guess = 0.38  # Typical starting value for q\n",
    "\n",
    "# Fit the model\n",
    "params, cov = curve_fit(cumulative_bass_model, df['t'], df['N_cumulative'], p0=[M_guess, p_guess, q_guess])\n",
    "\n",
    "# Extract fitted M, p, and q\n",
    "M_fitted, p_fitted, q_fitted = params\n",
    "\n",
    "# Linear regression approach for estimating M, p, and q\n",
    "# The linear form of the Bass model as presented in slides for estimation:\n",
    "# Adoption at time t, N(t), is related to the parameters and the cumulative adopters until time t-1\n",
    "\n",
    "# Transform the data for linear regression\n",
    "df['t-1'] = df['t'] - 1\n",
    "df['N(t-1)'] = df['N(t)'].shift(1).fillna(0)\n",
    "df['N_cumulative_t-1'] = df['N(t-1)'].cumsum()\n",
    "df['Fraction'] = (df['N(t)'] / (M_fitted - df['N_cumulative_t-1']))\n",
    "\n",
    "# The linear regression model can be applied to the transformed variables to estimate p and q\n",
    "X = df[['N_cumulative_t-1', 't-1']]\n",
    "y = df['Fraction']\n",
    "\n",
    "# Using np.linalg.lstsq for linear regression\n",
    "X = np.column_stack((X, np.ones(len(X))))\n",
    "theta = np.linalg.lstsq(X, y, rcond=None)[0]\n",
    "\n",
    "# Extracting p and q from the regression coefficients\n",
    "p_estimated, q_estimated = theta[:-1]\n",
    "\n",
    "# Now, let's calculate N(30) using the estimated M, p, and q.\n",
    "# For this, we need the cumulative adoption until t=29, which we can calculate using the Bass model,\n",
    "# and then find N(30) as the difference between cumulative adoptions at t=30 and t=29.\n",
    "\n",
    "# Cumulative adoption until t=29\n",
    "N_cumulative_29 = cumulative_bass_model(29, M_fitted, p_estimated, q_estimated)\n",
    "\n",
    "# Cumulative adoption at t=30\n",
    "N_cumulative_30 = cumulative_bass_model(30, M_fitted, p_estimated, q_estimated)\n",
    "\n",
    "# N(30) as the difference\n",
    "N_30 = N_cumulative_30 - N_cumulative_29\n",
    "\n",
    "M_fitted, p_estimated, q_estimated, N_30"
   ]
  },
  {
   "cell_type": "markdown",
   "id": "980ca586-9be2-4914-b8bf-924afffeb29e",
   "metadata": {},
   "source": [
    "2. Assume M is fixed at M=100. Estimate \"p\" and \"q\" from the adoption series dataset from period 1 to 14 using the nonlinear regression approach, again based on the formula at the top of slide 8. See Question Q4 below for comments on what makes the model nonlinear when M is fixed, but linear when M is not fixed (as in Q1.1 above).   No writeup necessary, simply state your values of \"p\", \"q\" . "
   ]
  },
  {
   "cell_type": "code",
   "execution_count": 33,
   "id": "c006df73-cbe2-4e24-96c9-202af3947b95",
   "metadata": {
    "tags": []
   },
   "outputs": [
    {
     "data": {
      "text/plain": [
       "(0.0009334623814497431, 0.18115540041797834)"
      ]
     },
     "execution_count": 33,
     "metadata": {},
     "output_type": "execute_result"
    }
   ],
   "source": [
    "# M is fixed\n",
    "M_fixed = 100\n",
    "\n",
    "# Define the cumulative function with M fixed\n",
    "def cumulative_bass_model_fixed_M(t, p, q):\n",
    "    \"\"\"\n",
    "    Cumulative adopters function of the Bass model with fixed M.\n",
    "    \"\"\"\n",
    "    part1 = (1 - np.exp(-(p + q) * t))\n",
    "    part2 = 1 + q / p * np.exp(-(p + q) * t)\n",
    "    return M_fixed * part1 / part2\n",
    "\n",
    "# We'll estimate \"p\" and \"q\" using data from periods 1 to 14\n",
    "df_subset = df[df['t'] <= 14]\n",
    "\n",
    "# Initial guesses for p and q (since M is fixed)\n",
    "p_guess = 0.03  # Typical starting value for p\n",
    "q_guess = 0.38  # Typical starting value for q\n",
    "\n",
    "# Fit the model to the subset of data\n",
    "params_fixed_M, cov_fixed_M = curve_fit(cumulative_bass_model_fixed_M, df_subset['t'], df_subset['N_cumulative'], p0=[p_guess, q_guess])\n",
    "\n",
    "# Extract fitted p and q with M fixed\n",
    "p_fitted_fixed_M, q_fitted_fixed_M = params_fixed_M\n",
    "\n",
    "p_fitted_fixed_M, q_fitted_fixed_M"
   ]
  },
  {
   "cell_type": "markdown",
   "id": "62eafd10-248f-4599-864d-3c3e6deb70f3",
   "metadata": {},
   "source": [
    "3. Using M=100 and the estimated values of \"p\" and \"q\" from Step 2 above, forecast into the future beyond period 14. Compute the value of N(30). No writeup necessary. Simply state the N(30) value that you got. "
   ]
  },
  {
   "cell_type": "code",
   "execution_count": 34,
   "id": "57f2b8ed-5d53-4d38-8060-3378348cd58e",
   "metadata": {
    "tags": []
   },
   "outputs": [
    {
     "data": {
      "text/plain": [
       "4.5603426653577515"
      ]
     },
     "execution_count": 34,
     "metadata": {},
     "output_type": "execute_result"
    }
   ],
   "source": [
    "N_cumulative_29_fixed_M = cumulative_bass_model_fixed_M(29, p_fitted_fixed_M, q_fitted_fixed_M)\n",
    "N_cumulative_30_fixed_M = cumulative_bass_model_fixed_M(30, p_fitted_fixed_M, q_fitted_fixed_M)\n",
    "\n",
    "# N(30) as the difference\n",
    "N_30_fixed_M = N_cumulative_30_fixed_M - N_cumulative_29_fixed_M\n",
    "\n",
    "N_30_fixed_M"
   ]
  },
  {
   "cell_type": "markdown",
   "id": "6c048091-cd89-4052-880b-2991548097e8",
   "metadata": {},
   "source": [
    "4. Continue to assume M=100. Estimate \"p\" and \"q\" from the adoption series from period 1 to 14, this time using the Continuous Bass Model of  Slide 21.  You can do this via nonlinear regression in python creating a formula based on the expression at the bottom of Slide 21. [Alternatively you can set up an optimization calculation to minimize the Sum of Squared Errors(SSE), like on Slides 23-25, shown in the spreadsheet adoptionseries1_continuous_bass_solved.xls. In this spreadsheet if we start with p=0.001, q=0.5, M=100 (the values you see when you see when you open the spreadsheet), and run SOLVER to optimize for p,q,M, then we get estimates as p=0.000596, q=0.418653, M=123.4005.] For this HW question, because M is already assumed to be M=100, we optimize  for only p and q,  fixing M at 100. Use your estimated values of p and q to estimate the value of N(30) under the Continuous Bass Model. No writeup necessary. Simply state your values of p, q, and N(30). "
   ]
  },
  {
   "cell_type": "code",
   "execution_count": 35,
   "id": "f0bb43ca-02bd-4282-b4be-96291c890d0f",
   "metadata": {
    "tags": []
   },
   "outputs": [
    {
     "name": "stderr",
     "output_type": "stream",
     "text": [
      "/var/folders/ng/hwxgpqq16t9_z0bkjjws2bj80000gn/T/ipykernel_64224/2754061247.py:10: RuntimeWarning: invalid value encountered in scalar divide\n",
      "  part2 = 1 + q / p * np.exp(-(p + q) * t)\n",
      "/var/folders/ng/hwxgpqq16t9_z0bkjjws2bj80000gn/T/ipykernel_64224/2754061247.py:10: RuntimeWarning: divide by zero encountered in scalar divide\n",
      "  part2 = 1 + q / p * np.exp(-(p + q) * t)\n"
     ]
    },
    {
     "data": {
      "text/plain": [
       "(0.001, 0.5, 0.012291310097240353)"
      ]
     },
     "execution_count": 35,
     "metadata": {},
     "output_type": "execute_result"
    }
   ],
   "source": [
    "# Define the continuous Bass model function for adoption rate based on the expression from Slide 21\n",
    "def continuous_bass_model(t, p, q, M=100):\n",
    "    \"\"\"\n",
    "    Adoption rate function of the continuous Bass model with fixed M.\n",
    "    This function returns the adoption rate at time t.\n",
    "    \"\"\"\n",
    "    adopters_t_minus_1 = cumulative_bass_model_fixed_M(t-1, p, q) if t > 1 else 0\n",
    "    part1 = M - adopters_t_minus_1\n",
    "    part2 = p + (q / M) * adopters_t_minus_1\n",
    "    return part1 * part2\n",
    "\n",
    "# To estimate p and q using nonlinear regression, we'll compare the observed N(t) to the modeled adoption rate at each t\n",
    "# Initial parameter guesses\n",
    "initial_guesses = [0.001, 0.5]  # Initial guesses for p and q\n",
    "\n",
    "# Optimization to minimize the Sum of Squared Errors (SSE)\n",
    "# Define the objective function for optimization (SSE)\n",
    "def sse(params, t, N):\n",
    "    p, q = params\n",
    "    modeled_N = np.array([continuous_bass_model(ti, p, q) for ti in t])\n",
    "    return np.sum((N - modeled_N) ** 2)\n",
    "\n",
    "# Extract the time periods and observed N(t) from periods 1 to 14\n",
    "t_periods = df_subset['t'].values\n",
    "N_observed = df_subset['N(t)'].values\n",
    "\n",
    "# Use scipy.optimize.minimize to find the optimal p and q\n",
    "from scipy.optimize import minimize\n",
    "\n",
    "result = minimize(sse, initial_guesses, args=(t_periods, N_observed), method='L-BFGS-B', bounds=[(0, None), (0, None)])\n",
    "\n",
    "# Extract optimized p and q\n",
    "p_optimized, q_optimized = result.x\n",
    "\n",
    "# Use the optimized p and q to estimate N(30) under the Continuous Bass Model\n",
    "N_30_continuous_model = continuous_bass_model(30, p_optimized, q_optimized)\n",
    "\n",
    "p_optimized, q_optimized, N_30_continuous_model"
   ]
  },
  {
   "cell_type": "markdown",
   "id": "44b4c96b-8309-4626-9040-3e480b1372c0",
   "metadata": {},
   "source": [
    "### Question 2 ChatGPT"
   ]
  },
  {
   "cell_type": "markdown",
   "id": "0a2b144b-b1ab-48e6-8ec2-55cfdc68eae8",
   "metadata": {
    "tags": []
   },
   "source": [
    "Paste all the prompts into the ChatGPT 4.0, and below is the output:"
   ]
  },
  {
   "cell_type": "code",
   "execution_count": 36,
   "id": "d6fe903b-3414-4ad0-aa66-3d75adb0418c",
   "metadata": {
    "tags": []
   },
   "outputs": [
    {
     "data": {
      "image/png": "[encoded data removed]",
      "text/plain": [
       "<Figure size 1800x1200 with 16 Axes>"
      ]
     },
     "metadata": {},
     "output_type": "display_data"
    }
   ],
   "source": [
    "Tmax = 50\n",
    "t_range = range(1, Tmax + 1)\n",
    "\n",
    "def efficient_discrete_bass_model(M, p, q, Tmax):\n",
    "    \"\"\"\n",
    "    Efficiently calculate N(t) for discrete time points using the Bass Model.\n",
    "    Returns a list of N(t) values from t=1 to Tmax.\n",
    "    \"\"\"\n",
    "    \n",
    "    N_t = [p * M]  # Initial adoption is just p * M\n",
    "    for t in range(2, Tmax + 1):\n",
    "        prev_cumulative_adoption = sum(N_t)\n",
    "        N_t.append((M - prev_cumulative_adoption) * (p + q * prev_cumulative_adoption / M))\n",
    "    return N_t\n",
    "\n",
    "# Redefine parameters\n",
    "p_range = np.linspace(0.005, 0.08, 4)  # Broad range for p\n",
    "q_range = np.linspace(0.1, 0.8, 4)  # Broad range for q\n",
    "\n",
    "# Prepare the plots again with the efficient approach\n",
    "fig, axes = plt.subplots(len(p_range), len(q_range), figsize=(18, 12), sharex=True, sharey=True)\n",
    "for i, p in enumerate(p_range):\n",
    "    for j, q in enumerate(q_range):\n",
    "        N_t = efficient_discrete_bass_model(M, p, q, Tmax)\n",
    "        axes[i, j].plot(t_range, N_t, label=f'p={p:.3f}, q={q:.1f}')\n",
    "        axes[i, j].set_title(f'p={p:.3f}, q={q:.1f}')\n",
    "        axes[i, j].grid(True)\n",
    "\n",
    "# Set common labels and adjust layout\n",
    "for ax in axes.flat:\n",
    "    ax.set(xlabel='Time Period (t)', ylabel='N(t)')\n",
    "    ax.label_outer()\n",
    "\n",
    "fig.suptitle('N(t) Curves for Various p and q Values (Discrete Bass Model)', fontsize=16)\n",
    "plt.tight_layout(rect=[0, 0.03, 1, 0.95])\n",
    "plt.show()"
   ]
  },
  {
   "cell_type": "markdown",
   "id": "2ea84904-c90b-4d4d-a900-c3e2f7ef2dd6",
   "metadata": {},
   "source": [
    "### Question 3"
   ]
  },
  {
   "cell_type": "markdown",
   "id": "325b22d3-cbb5-4d9c-9afa-a638a55a5a28",
   "metadata": {},
   "source": [
    "Paste all the prompts into the ChatGPT 4.0, and below is the output:"
   ]
  },
  {
   "cell_type": "code",
   "execution_count": 37,
   "id": "8f9005e2-f59e-43cd-9cd0-921f34c1becb",
   "metadata": {
    "tags": []
   },
   "outputs": [
    {
     "name": "stderr",
     "output_type": "stream",
     "text": [
      "/var/folders/ng/hwxgpqq16t9_z0bkjjws2bj80000gn/T/ipykernel_64224/2754061247.py:10: RuntimeWarning: invalid value encountered in scalar divide\n",
      "  part2 = 1 + q / p * np.exp(-(p + q) * t)\n",
      "/var/folders/ng/hwxgpqq16t9_z0bkjjws2bj80000gn/T/ipykernel_64224/2754061247.py:10: RuntimeWarning: divide by zero encountered in scalar divide\n",
      "  part2 = 1 + q / p * np.exp(-(p + q) * t)\n"
     ]
    },
    {
     "data": {
      "text/plain": [
       "[{'p': 0.01,\n",
       "  'q': 0.3,\n",
       "  'estimated_p': 0.01,\n",
       "  'estimated_q': 0.4,\n",
       "  'forecasted_Nt': [14.58186554833172,\n",
       "   1.3660157130725432,\n",
       "   0.8361623241378981,\n",
       "   0.5044642011914992,\n",
       "   0.3016425675666931,\n",
       "   0.17939347159278465,\n",
       "   0.10634406562436063,\n",
       "   0.06291898830302359,\n",
       "   0.03718372875975712,\n",
       "   0.02195987150230228,\n",
       "   0.01296380964661281,\n",
       "   0.007651255688798923,\n",
       "   0.00451514917491945,\n",
       "   0.002664254296438786,\n",
       "   0.0015720201531306507,\n",
       "   0.0009275302266209607,\n",
       "   0.0005472561794102942,\n",
       "   0.0003228857916683474,\n",
       "   0.00019050423432465346,\n",
       "   0.00011239806122094829,\n",
       "   6.631505209232102e-05,\n",
       "   3.912594895128066e-05,\n",
       "   2.3084333630656387e-05,\n",
       "   1.361976510697709e-05,\n",
       "   8.035664288109475e-06,\n",
       "   4.7410429350601745e-06,\n",
       "   2.7972156770546354e-06,\n",
       "   1.65035737309915e-06,\n",
       "   9.737108911513228e-07,\n",
       "   5.744894439966372e-07,\n",
       "   3.389487754308892e-07,\n",
       "   1.999797773498182e-07,\n",
       "   1.1798806805088702e-07,\n",
       "   6.961296139544512e-08,\n",
       "   4.107165121319275e-08,\n",
       "   2.4232271428797365e-08,\n",
       "   1.4297043117860164e-08]},\n",
       " {'p': 0.01,\n",
       "  'q': 0.7,\n",
       "  'estimated_p': 0.00039783775407801266,\n",
       "  'estimated_q': 1.0936896491640544,\n",
       "  'forecasted_Nt': [0.46808572817888766,\n",
       "   -95.80941231909627,\n",
       "   26.198853466516884,\n",
       "   12.781788715166089,\n",
       "   0.7867016130382319,\n",
       "   -0.06832388810056628,\n",
       "   0.0064706387501152875,\n",
       "   -0.0006084269291699568,\n",
       "   5.724871302224058e-05,\n",
       "   -5.3863578708286604e-06,\n",
       "   5.067891530322032e-07,\n",
       "   -4.768252695874773e-08,\n",
       "   4.486320735883181e-09,\n",
       "   -4.2209488661580973e-10,\n",
       "   3.9709383395175686e-11,\n",
       "   -3.7315003973555e-12,\n",
       "   3.4205420309090813e-13,\n",
       "   -3.1095836644628114e-14,\n",
       "   0.0,\n",
       "   0.0,\n",
       "   0.0,\n",
       "   0.0,\n",
       "   0.0,\n",
       "   0.0,\n",
       "   0.0,\n",
       "   0.0,\n",
       "   0.0,\n",
       "   0.0,\n",
       "   0.0,\n",
       "   0.0,\n",
       "   0.0,\n",
       "   0.0,\n",
       "   0.0,\n",
       "   0.0,\n",
       "   0.0,\n",
       "   0.0,\n",
       "   0.0]},\n",
       " {'p': 0.03,\n",
       "  'q': 0.3,\n",
       "  'estimated_p': 0.022267310234664325,\n",
       "  'estimated_q': 0.393892822341188,\n",
       "  'forecasted_Nt': [6.756120785138855,\n",
       "   -16.68595170035189,\n",
       "   -6.763732784995714,\n",
       "   -3.3664555935378067,\n",
       "   -1.8098861069080903,\n",
       "   -1.0099397544103874,\n",
       "   -0.5747768818644673,\n",
       "   -0.330704807471091,\n",
       "   -0.19145449819059726,\n",
       "   -0.11123227388662371,\n",
       "   -0.06475694838749047,\n",
       "   -0.03774494078903893,\n",
       "   -0.022015667037493573,\n",
       "   -0.012846362761315172,\n",
       "   -0.00749774570327787,\n",
       "   -0.004376640305249626,\n",
       "   -0.002554969980504645,\n",
       "   -0.0014915954829435427,\n",
       "   -0.0008708195577408252,\n",
       "   -0.0005084078073934649,\n",
       "   -0.00029682487208928073,\n",
       "   -0.00017329687320096342,\n",
       "   -0.00010117717327230656,\n",
       "   -5.907111397419527e-05,\n",
       "   -3.448801903932441e-05,\n",
       "   -2.0135462632920796e-05,\n",
       "   -1.1755879755749133e-05,\n",
       "   -6.863549206977156e-06,\n",
       "   -4.007212954616981e-06,\n",
       "   -2.3395704410331383e-06,\n",
       "   -1.3659344131849457e-06,\n",
       "   -7.974869404190046e-07,\n",
       "   -4.656046570483416e-07,\n",
       "   -2.7183855799192093e-07,\n",
       "   -1.587101862254865e-07,\n",
       "   -9.26613366220953e-08,\n",
       "   -5.4099381720893965e-08]},\n",
       " {'p': 0.03,\n",
       "  'q': 0.7,\n",
       "  'estimated_p': 0.005104066360032574,\n",
       "  'estimated_q': 1.087863333728955,\n",
       "  'forecasted_Nt': [0.015880140239853416,\n",
       "   -57.71721659475339,\n",
       "   17.15603616739516,\n",
       "   2.470593622932754,\n",
       "   -0.17171529219746073,\n",
       "   0.016229209207171944,\n",
       "   -0.0015064087587812402,\n",
       "   0.00014006739203438245,\n",
       "   -1.3021524160266399e-05,\n",
       "   1.2105787859022666e-06,\n",
       "   -1.1254435077418695e-07,\n",
       "   1.0462946042238631e-08,\n",
       "   -9.727070903207284e-10,\n",
       "   9.042730942088673e-11,\n",
       "   -8.418344504665876e-12,\n",
       "   7.921320474869441e-13,\n",
       "   -6.212800372446669e-14,\n",
       "   0.0,\n",
       "   0.0,\n",
       "   0.0,\n",
       "   0.0,\n",
       "   0.0,\n",
       "   0.0,\n",
       "   0.0,\n",
       "   0.0,\n",
       "   0.0,\n",
       "   0.0,\n",
       "   0.0,\n",
       "   0.0,\n",
       "   0.0,\n",
       "   0.0,\n",
       "   0.0,\n",
       "   0.0,\n",
       "   0.0,\n",
       "   0.0,\n",
       "   0.0,\n",
       "   0.0]}]"
      ]
     },
     "execution_count": 37,
     "metadata": {},
     "output_type": "execute_result"
    }
   ],
   "source": [
    "from scipy.stats import uniform\n",
    "\n",
    "# Function to add noise to the data\n",
    "def add_noise(data, noise_level=0.1):\n",
    "    \"\"\"\n",
    "    Adds uniform noise to the data.\n",
    "    Noise level is given as a fraction of the data value (e.g., 0.1 for ±10% noise).\n",
    "    \"\"\"\n",
    "    noisy_data = data * uniform.rvs(1 - noise_level, 1 + noise_level, size=len(data))\n",
    "    return noisy_data\n",
    "\n",
    "# Function to estimate p and q from noisy data using nonlinear optimization\n",
    "def estimate_params_from_noisy_data(noisy_data, Tmax, M=100):\n",
    "    \"\"\"\n",
    "    Estimates p and q from noisy N(t) data up to Tmax using nonlinear optimization.\n",
    "    \"\"\"\n",
    "    # Optimization to minimize the Sum of Squared Errors (SSE) from noisy data\n",
    "    result = minimize(sse, [0.01, 0.4], args=(range(1, Tmax + 1), noisy_data), method='L-BFGS-B', bounds=[(0, None), (0, None)])\n",
    "    return result.x\n",
    "\n",
    "# Function to forecast N(t) using estimated p and q\n",
    "def forecast_Nt_from_estimated_params(p, q, N14, A14, Tmax, M=100):\n",
    "    \"\"\"\n",
    "    Forecasts future N(t) values using the estimated p and q, starting from N14 and A14.\n",
    "    \"\"\"\n",
    "    forecasted_Nt = [N14]\n",
    "    for t in range(15, Tmax + 1):\n",
    "        prev_adoption = A14 + sum(forecasted_Nt[1:] if len(forecasted_Nt) > 1 else [0])\n",
    "        N_t = (M - prev_adoption) * (p + q * prev_adoption / M)\n",
    "        forecasted_Nt.append(N_t)\n",
    "    return forecasted_Nt\n",
    "\n",
    "# Simulate for a set of p and q values\n",
    "p_values = [0.01, 0.03]  # Example values for p\n",
    "q_values = [0.3, 0.7]  # Example values for q\n",
    "\n",
    "# For simplicity, use the efficient calculation of N(t) to generate true values\n",
    "results = []\n",
    "\n",
    "for p in p_values:\n",
    "    for q in q_values:\n",
    "        # Generate true N(t)\n",
    "        true_Nt = efficient_discrete_bass_model(M, p, q, 14)\n",
    "        # Add noise to N(t) for t=1 to 14\n",
    "        noisy_Nt = add_noise(true_Nt)\n",
    "        # Estimate p and q from noisy data\n",
    "        estimated_p, estimated_q = estimate_params_from_noisy_data(noisy_Nt, 14)\n",
    "        # Use estimated p and q to forecast N(15) to N(Tmax)\n",
    "        N14 = noisy_Nt[-1]\n",
    "        A14 = sum(noisy_Nt)\n",
    "        forecasted_Nt = forecast_Nt_from_estimated_params(estimated_p, estimated_q, N14, A14, 50)\n",
    "        results.append({\n",
    "            \"p\": p,\n",
    "            \"q\": q,\n",
    "            \"estimated_p\": estimated_p,\n",
    "            \"estimated_q\": estimated_q,\n",
    "            \"forecasted_Nt\": forecasted_Nt\n",
    "        })\n",
    "\n",
    "# This step compiles the necessary functions and setups. Next, we'll analyze and plot the results to compare the forecasts with true values.\n",
    "results\n"
   ]
  },
  {
   "cell_type": "markdown",
   "id": "22507417-0c44-41d8-93fc-c7cf8def41d7",
   "metadata": {},
   "source": [
    "### Question 4"
   ]
  },
  {
   "cell_type": "markdown",
   "id": "fff09c2e-605e-4b04-8221-fc093e86e38b",
   "metadata": {},
   "source": [
    "Paste all the prompts into the ChatGPT 4.0, and below is the output:"
   ]
  },
  {
   "cell_type": "code",
   "execution_count": 38,
   "id": "f2922e6c-c97a-4e08-a669-0d6e4b2c39ab",
   "metadata": {
    "tags": []
   },
   "outputs": [
    {
     "data": {
      "text/plain": [
       "(0.0007824230009414671, 0.17653600746584477)"
      ]
     },
     "execution_count": 38,
     "metadata": {},
     "output_type": "execute_result"
    }
   ],
   "source": [
    "from sklearn.linear_model import LinearRegression\n",
    "\n",
    "# Assuming the dataframe df contains the necessary data up to period 14\n",
    "# and assuming M=100 as per the setup in Question Q1.2\n",
    "\n",
    "# Compute A(t) and A(t)^2 for the regression model\n",
    "df['A(t)'] = df['N_cumulative']\n",
    "df['A(t)^2'] = df['A(t)'] ** 2\n",
    "\n",
    "# Using data up to period 14 for fitting the model\n",
    "df_fit = df[df['t'] <= 14]\n",
    "\n",
    "# Defining predictors and response variable\n",
    "X = df_fit[['A(t)', 'A(t)^2']]\n",
    "# Adding the intercept manually\n",
    "X = np.hstack((np.ones((X.shape[0], 1)), X))\n",
    "y = df_fit['N(t)']\n",
    "\n",
    "# Linear regression\n",
    "model = LinearRegression(fit_intercept=False)  # Intercept is manually added\n",
    "model.fit(X, y)\n",
    "\n",
    "# Coefficients\n",
    "b_0, b_1, b_2 = model.coef_\n",
    "\n",
    "# Compute p and q using the coefficients\n",
    "M_fixed = 100\n",
    "p_estimated = b_0 / M_fixed\n",
    "q_estimated = b_1 + p_estimated\n",
    "\n",
    "p_estimated, q_estimated"
   ]
  },
  {
   "cell_type": "code",
   "execution_count": null,
   "id": "49b17fa7-d2e7-4c02-80a2-483c3faa819d",
   "metadata": {},
   "outputs": [],
   "source": []
  }
 ],
 "metadata": {
  "kernelspec": {
   "display_name": "Python 3 (ipykernel)",
   "language": "python",
   "name": "python3"
  },
  "language_info": {
   "codemirror_mode": {
    "name": "ipython",
    "version": 3
   },
   "file_extension": ".py",
   "mimetype": "text/x-python",
   "name": "python",
   "nbconvert_exporter": "python",
   "pygments_lexer": "ipython3",
   "version": "3.10.12"
  }
 },
 "nbformat": 4,
 "nbformat_minor": 5
}
